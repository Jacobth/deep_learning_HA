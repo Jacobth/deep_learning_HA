{
 "cells": [
  {
   "cell_type": "markdown",
   "metadata": {},
   "source": [
    "### Checklist for submission\n",
    "\n",
    "It is extremely important to make sure that:\n",
    "\n",
    "1. Everything runs as expected (no bugs when running cells);\n",
    "2. The output from each cell corresponds to its code (don't change any cell's contents without rerunning it afterwards);\n",
    "3. All outputs are present (don't delete any of the outputs);\n",
    "4. Fill in all the places that say `# YOUR CODE HERE`, or \"**Your answer:** (fill in here)\".\n",
    "5. You should not need to create any new cells in the notebook, but feel free to do it if convenient for you.\n",
    "6. The notebook contains some hidden metadata which is important during our grading process. **Make sure not to corrupt any of this metadata!** The metadata may be corrupted if you perform an unsuccessful git merge / git pull. It may also be pruned completely if using Google Colab, so watch out for this. Searching for \"nbgrader\" when opening the notebook in a text editor should take you to the important metadata entries.\n",
    "7. Fill in your group number and the full names of the members in the cell below;\n",
    "8. Make sure that you are not running an old version of IPython (we provide you with a cell that checks this, make sure you can run it without errors).\n",
    "\n",
    "Failing to meet any of these requirements might lead to either a subtraction of POEs (at best) or a request for resubmission (at worst).\n",
    "\n",
    "We advise you the following steps before submission for ensuring that requirements 1, 2, and 3 are always met: **Restart the kernel** (in the menubar, select Kernel$\\rightarrow$Restart) and then **run all cells** (in the menubar, select Cell$\\rightarrow$Run All). This might require a bit of time, so plan ahead for this (and possibly use Google Cloud's GPU in HA1 and HA2 for this step). Finally press the \"Save and Checkout\" button before handing in, to make sure that all your changes are saved to this .ipynb file."
   ]
  },
  {
   "cell_type": "markdown",
   "metadata": {},
   "source": [
    "---\n",
    "\n",
    "Group number and member names:"
   ]
  },
  {
   "cell_type": "code",
   "execution_count": null,
   "metadata": {},
   "outputs": [],
   "source": [
    "GROUP = \"84\"\n",
    "NAME1 = \"Jacob Lundberg\"\n",
    "NAME2 = \"Teodor Norrestad\""
   ]
  },
  {
   "cell_type": "markdown",
   "metadata": {},
   "source": [
    "Make sure you can run the following cell without errors."
   ]
  },
  {
   "cell_type": "code",
   "execution_count": 73,
   "metadata": {},
   "outputs": [],
   "source": [
    "import IPython\n",
    "assert IPython.version_info[0] >= 3, \"Your version of IPython is too old, please update it.\""
   ]
  },
  {
   "cell_type": "markdown",
   "metadata": {},
   "source": [
    "---"
   ]
  },
  {
   "cell_type": "markdown",
   "metadata": {
    "deletable": false,
    "editable": false,
    "nbgrader": {
     "checksum": "9f4edef3c4e6df4dbb2a29dba78c09d8",
     "grade": false,
     "grade_id": "cell-2f332c3ca731afc6",
     "locked": true,
     "schema_version": 1,
     "solution": false
    }
   },
   "source": [
    "# Home Assignment 3\n",
    "This home assignment will focus on reinforcement learning and deep reinforcement learning. The first part will cover value-table reinforcement learning techniques, and the second part will include neural networks as function approximators, i.e. deep reinforcement learning. \n",
    "\n",
    "When handing in this assignment, make sure that you're handing in the correct version, and more importantly, *that you do no clear any output from your cells*. We'll use these outputs to aid us when grading your assignment."
   ]
  },
  {
   "cell_type": "markdown",
   "metadata": {
    "deletable": false,
    "editable": false,
    "nbgrader": {
     "checksum": "cc4d88f2e070d5479382bf223b5c5d49",
     "grade": false,
     "grade_id": "cell-8122dcb8d8ca1c9e",
     "locked": true,
     "schema_version": 1,
     "solution": false
    }
   },
   "source": [
    "## Task 1: Gridworld\n",
    "\n",
    "In this task, you will implement Value Iteration to solve for the optimal policy, $\\pi^*$, and the corresponding state value function, $V^*$.\n",
    "\n",
    "The MDP you will work with in this assignment is illustrated in the figure below\n",
    "\n",
    "![title](./grid_world.png) "
   ]
  },
  {
   "cell_type": "markdown",
   "metadata": {
    "deletable": false,
    "editable": false,
    "nbgrader": {
     "checksum": "fbdc1c764382473316a629ae7682d1bb",
     "grade": false,
     "grade_id": "cell-b4e5d5337fbaa0e5",
     "locked": true,
     "schema_version": 1,
     "solution": false
    }
   },
   "source": [
    "The agent starts in one of the squares shown in the above figure, and then proceeds to take actions. The available actions at any time step are: **North, West, South,** and **East**. If an action would make the agent bump into a wall, or one of the black (unreachable) states, it instead does nothing, leaving the agent at the same place it was before.\n",
    "\n",
    "The reward $\\mathcal{R}_s^a$ of being in state $s$ and performing actions $a$ is zero for all states, regardless of the action taken, with the exception of the green and the red squares. For the green square, the reward is always 1, and for the red square, always -1, regardless of the action.\n",
    "\n",
    "When the agent is either in the green or the red square, it will be transported to the terminal state in the next time step, regardless of the action taken. The terminal state is shown as the white square with the \"T\" inside.\n",
    "\n",
    "#### State representation\n",
    "The notations used to define the states are illustrated in the table below\n",
    "\n",
    "| $S_0$ | $S_1$ | $S_2$ | $S_3$ | $S_4$ |    |\n",
    "|-------|-------|-------|-------|-------|----|\n",
    "| $S_5$ | $S_6$ | $S_7$ | $S_8$ | $S_9$ |    |\n",
    "| $S_{10}$ | $S_{11}$ | $S_{12}$ | $S_{13}$ | $S_{14}$ | $S_{15}$|\n",
    "\n",
    "where $S_{10}$ corresponds to the initial state of the environment, $S_4$ and $S_9$ to the green and red states of the environment, and $S_{15}$ to the terminal state."
   ]
  },
  {
   "cell_type": "markdown",
   "metadata": {
    "deletable": false,
    "editable": false,
    "nbgrader": {
     "checksum": "8d0703fff00f4fb67a72b46968fe7253",
     "grade": false,
     "grade_id": "cell-c54a0f7162b1f260",
     "locked": true,
     "schema_version": 1,
     "solution": false
    }
   },
   "source": [
    "\n",
    "### Task 1.a: Solve for $V^*(s)$ and $Q^*(s,a)$\n",
    "For this task all transition probabilities are assumed to be 1 (that is, trying to move in a certain direction will definitely move the agent in the chosen direction), and a discount factor of .9, i.e. $\\gamma=.9$."
   ]
  },
  {
   "cell_type": "markdown",
   "metadata": {
    "deletable": false,
    "editable": false,
    "nbgrader": {
     "checksum": "9894346da453882ad420d049511a5b8b",
     "grade": false,
     "grade_id": "cell-c7fa1d00113f314e",
     "locked": true,
     "schema_version": 1,
     "solution": false
    }
   },
   "source": [
    "* Solve for $V^*(S_{10})$ "
   ]
  },
  {
   "cell_type": "markdown",
   "metadata": {
    "deletable": false,
    "nbgrader": {
     "checksum": "e998cc86ed986eeac11f54b0f6869a67",
     "grade": true,
     "grade_id": "cell-966bc6b1276b31f1",
     "locked": false,
     "points": 0,
     "schema_version": 1,
     "solution": true
    }
   },
   "source": [
    "**Your answer:** Assuming we have an optimal policy, that is going straight to $S_4$ either taking the upper path or the lower, we calculate $V^*(S_{10})$ by counting the steps backwards from $S_4$, using the discount $\\gamma = 0.9$. This results in $V^*(S_{10}) = 1* \\gamma ^ 6 \\approx 0.53$."
   ]
  },
  {
   "cell_type": "markdown",
   "metadata": {
    "deletable": false,
    "editable": false,
    "nbgrader": {
     "checksum": "c2d30fc8031fa1ff3f06019a9cf1ba27",
     "grade": false,
     "grade_id": "cell-4cc15316add9bd67",
     "locked": true,
     "schema_version": 1,
     "solution": false
    }
   },
   "source": [
    "* Solve $Q^*(S_{10},a)$ for all actions"
   ]
  },
  {
   "cell_type": "markdown",
   "metadata": {
    "deletable": false,
    "nbgrader": {
     "checksum": "ad5e1409a936a5c1ec6684a1edae79ee",
     "grade": true,
     "grade_id": "cell-0e5efad7ed72fdcb",
     "locked": false,
     "points": 0,
     "schema_version": 1,
     "solution": true
    }
   },
   "source": [
    "**Your answer:** Since we have a deterministic optimal policy and all transition probabilities are all $1$, we can get $Q^*(S_{10},a)$ for each action by simply considering where we end up after taking $a$ and discounting the value function for that state. Thus we get that $Q^*(S_{10},North) = \\gamma V(S_5) \\approx 0.53$, $Q^*(S_{10},East) = \\gamma V(S_{11}) = 0.53$ and $Q^*(S_{10},West) = Q^*(S_{10},South) = \\gamma V(S_{10}) \\approx 0.48$ assuming that bumping into a wall means we discount the action value once more. "
   ]
  },
  {
   "cell_type": "markdown",
   "metadata": {
    "deletable": false,
    "editable": false,
    "nbgrader": {
     "checksum": "fcab701a30ff0fd17edaa87e562124ba",
     "grade": false,
     "grade_id": "cell-e426e3815f78930a",
     "locked": true,
     "schema_version": 1,
     "solution": false
    }
   },
   "source": [
    "\n",
    "\n",
    "### Task 1.b Write a mathematical expression relating $V^\\pi(s)$ to $Q^\\pi(s,a)$ and $\\pi(a|s)$\n"
   ]
  },
  {
   "cell_type": "markdown",
   "metadata": {
    "deletable": false,
    "nbgrader": {
     "checksum": "61bf64e2c38d41b0f0d024faba554e8f",
     "grade": true,
     "grade_id": "cell-343c3ea4883085e1",
     "locked": false,
     "points": 0,
     "schema_version": 1,
     "solution": true
    }
   },
   "source": [
    "**Your answer:** We can calculate $V^{\\pi}(s)$ by considering all the different actions we might take and their corresponding action values $Q^{\\pi}(s,a)$. Summing over all actions we get\n",
    "$V^{\\pi}(s) = \\sum_{a \\in A} \\pi(a|s)Q^{\\pi}(s,a)$."
   ]
  },
  {
   "cell_type": "markdown",
   "metadata": {
    "deletable": false,
    "editable": false,
    "nbgrader": {
     "checksum": "993f36fffd9ebfd3c89a3b63dd42685d",
     "grade": false,
     "grade_id": "cell-ab80df325256cf89",
     "locked": true,
     "schema_version": 1,
     "solution": false
    }
   },
   "source": [
    "\n",
    "###  Task 1.c: Value Iteration\n",
    "For this task, the transitions are no longer deterministic. Instead, there is a 0.2 probability that the agent will try to travel in an orthogonal direction of the chosen action (0.1 probability for each of the two orthogonal directions). Note that the Markov decision process is still known and does not have to be learned from experience.\n",
    "\n",
    "Your task is to implement value iteration and solve for the\n",
    "* optimal greedy policy $\\pi^*(s)$ \n",
    "* $V^*(s)$"
   ]
  },
  {
   "cell_type": "markdown",
   "metadata": {
    "deletable": false,
    "editable": false,
    "nbgrader": {
     "checksum": "659925b7584671453aaee51f14ec4083",
     "grade": false,
     "grade_id": "cell-74497ad9b13e8362",
     "locked": true,
     "schema_version": 1,
     "solution": false
    }
   },
   "source": [
    "#### The value iteration algorithm\n",
    "Value iteration is an iterative algorithm used to compute the optimal value function $V^*(s)$. Each iteration starts with a guess of what the value function is and then uses the Bellman equations to improve this guess iteratively. We can describe one iteration of the algorithm as\n",
    "\n",
    "$\n",
    "\\textbf{For} ~ s \\in {\\cal S}:\\qquad  \\\\\n",
    "\\quad V_{k+1}(s) = \\underset{a \\in {\\cal A}}{\\text{max}}~ \\left( \\mathcal{R}_s^a + \\gamma \\underset{{s'\\in \\mathcal{S}}}{\\sum} \\mathcal{P}_{ss'}^a \\cdot V_k(s') \\right)\n",
    "$\n",
    "\n",
    "where $\\mathcal{P}_{ss'}^a={\\mathrm Pr}[S'=s'\\big|S=s,A=a]$ is the probability to transition state $s$ to $s'$ given action $a$.\n",
    "\n",
    "\n",
    "#### The MDP Python class\n",
    "The Markov Decision Process you will work with is defined in `gridworld_mdp.py`. In the implementation, the actions are represented by integers as, North = 0, West = 1, South = 2, and East = 3.\n",
    "To interact with the MDP, you need to instantiate an object as: \n",
    "\n",
    "\n",
    "```python\n",
    "mdp = GridWorldMDP()\n",
    "```\n",
    "\n",
    "At your disposal there are a number of instance-functions implemented for you, and presented below:"
   ]
  },
  {
   "cell_type": "code",
   "execution_count": 1,
   "metadata": {
    "deletable": false,
    "editable": false,
    "nbgrader": {
     "checksum": "636b8c5ea0bb7d3b4798564dfc7d580d",
     "grade": false,
     "grade_id": "cell-21e5d7b3d3083cd6",
     "locked": true,
     "schema_version": 1,
     "solution": false
    }
   },
   "outputs": [
    {
     "name": "stdout",
     "output_type": "stream",
     "text": [
      "Help on function get_states in module gridworld_mdp:\n",
      "\n",
      "get_states(self)\n",
      "    Returns complete set of states for the MDP\n",
      "    :return: numpy array of shape [num states,]\n",
      "\n"
     ]
    }
   ],
   "source": [
    "from gridworld_mdp import *\n",
    "import numpy as np\n",
    "\n",
    "help(GridWorldMDP.get_states)"
   ]
  },
  {
   "cell_type": "code",
   "execution_count": 2,
   "metadata": {
    "deletable": false,
    "editable": false,
    "nbgrader": {
     "checksum": "620f4674b0caadf475b4889bd8747b62",
     "grade": false,
     "grade_id": "cell-9706322eb34e16db",
     "locked": true,
     "schema_version": 1,
     "solution": false
    }
   },
   "outputs": [
    {
     "name": "stdout",
     "output_type": "stream",
     "text": [
      "Help on function __init__ in module gridworld_mdp:\n",
      "\n",
      "__init__(self, trans_prob=0.8)\n",
      "    Initializes an instance of the GridWorldMDP class\n",
      "    :param trans_prob: transition probabilities (e.g. =1 for deterministic MDP)\n",
      "\n"
     ]
    }
   ],
   "source": [
    "# The constructor\n",
    "help(GridWorldMDP.__init__)"
   ]
  },
  {
   "cell_type": "code",
   "execution_count": 3,
   "metadata": {
    "deletable": false,
    "editable": false,
    "nbgrader": {
     "checksum": "f9b14ba756ee79811ccba63e1e51f14a",
     "grade": false,
     "grade_id": "cell-38d3ab6fb24c1af8",
     "locked": true,
     "schema_version": 1,
     "solution": false
    }
   },
   "outputs": [
    {
     "name": "stdout",
     "output_type": "stream",
     "text": [
      "Help on function get_actions in module gridworld_mdp:\n",
      "\n",
      "get_actions(self)\n",
      "    Returns complete set of actions for the MDP\n",
      "    :return: numpy array of shape [num actions,]\n",
      "\n"
     ]
    }
   ],
   "source": [
    "help(GridWorldMDP.get_actions)"
   ]
  },
  {
   "cell_type": "code",
   "execution_count": 4,
   "metadata": {
    "deletable": false,
    "editable": false,
    "nbgrader": {
     "checksum": "e0b98cbe90baa640578ed1991b4e3501",
     "grade": false,
     "grade_id": "cell-ecb00397472a5faa",
     "locked": true,
     "schema_version": 1,
     "solution": false
    }
   },
   "outputs": [
    {
     "name": "stdout",
     "output_type": "stream",
     "text": [
      "Help on function state_transition_func in module gridworld_mdp:\n",
      "\n",
      "state_transition_func(self, s, a)\n",
      "    Returns the transition probabilities to all states given current state and action\n",
      "    :param state: current state as integer\n",
      "    :param action: selected action as integer\n",
      "    :return: state-transition probabilities, i.e.\n",
      "     [P[S_0| S=s, A_t=a], P[S_1| S=s, A=a], ..., P[S_14| S=s, A=a]]\n",
      "\n"
     ]
    }
   ],
   "source": [
    "help(GridWorldMDP.state_transition_func)"
   ]
  },
  {
   "cell_type": "code",
   "execution_count": 5,
   "metadata": {
    "deletable": false,
    "editable": false,
    "nbgrader": {
     "checksum": "40120f95b5767060a8ca55455cf5d485",
     "grade": false,
     "grade_id": "cell-aa8e1498649053a5",
     "locked": true,
     "schema_version": 1,
     "solution": false
    }
   },
   "outputs": [
    {
     "name": "stdout",
     "output_type": "stream",
     "text": [
      "Help on function reward_function in module gridworld_mdp:\n",
      "\n",
      "reward_function(self, s, a)\n",
      "    Returns the reward r(s,a)\n",
      "    :param state: current state as integer\n",
      "    :param action: selected action as integer\n",
      "    :return: r(s,a)\n",
      "\n"
     ]
    }
   ],
   "source": [
    "help(GridWorldMDP.reward_function)"
   ]
  },
  {
   "cell_type": "markdown",
   "metadata": {
    "deletable": false,
    "editable": false,
    "nbgrader": {
     "checksum": "8defb43e783bcb9464571753a5c6e452",
     "grade": false,
     "grade_id": "cell-c1408cc9707dd7f8",
     "locked": true,
     "schema_version": 1,
     "solution": false
    }
   },
   "source": [
    "We also provide two helper functions for visualizing the value function and the policies you obtain:"
   ]
  },
  {
   "cell_type": "code",
   "execution_count": 74,
   "metadata": {
    "deletable": false,
    "editable": false,
    "nbgrader": {
     "checksum": "b39ad0b689edcb447e156b888fbc0515",
     "grade": false,
     "grade_id": "cell-b754590784e24eb1",
     "locked": true,
     "schema_version": 1,
     "solution": false
    }
   },
   "outputs": [],
   "source": [
    "# Function for printing a policy pi\n",
    "def print_policy(pi):\n",
    "    print('Policy for non-terminal states: ')\n",
    "    indencies = np.arange(1, 16)\n",
    "    txt = '| '\n",
    "    hor_delimiter = '---------------------'\n",
    "    print(hor_delimiter)\n",
    "    for a, i in zip(pi, indencies):\n",
    "        txt += mdp.act_to_char_dict[a] + ' | '\n",
    "        if i % 5 == 0:\n",
    "            print(txt + '\\n' + hor_delimiter)\n",
    "            txt = '| '\n",
    "    print('                            ---')\n",
    "    print('Policy for terminal state: |', mdp.act_to_char_dict[pi[15]],'|')\n",
    "    print('                            ---')            \n",
    "\n",
    "# Function for printing a table with of the value function\n",
    "def print_value_table(values, num_iterations=None):            \n",
    "    if num_iterations:\n",
    "        print('Values for non-terminal states after: ', num_iterations, 'iterations \\n', np.reshape(values, [3, 5]), '\\n')\n",
    "        print('Value for terminal state:', terminal_value, '\\n')\n",
    "    else: \n",
    "        terminal_value = values[-1]\n",
    "        print('Values for non-terminal states: \\n', np.reshape(values[:-1], [3, 5]))\n",
    "        print('Value for terminal state:', terminal_value, '\\n')"
   ]
  },
  {
   "cell_type": "markdown",
   "metadata": {
    "deletable": false,
    "editable": false,
    "nbgrader": {
     "checksum": "c04d9592932bc9c1e92df4949bcea301",
     "grade": false,
     "grade_id": "cell-87e02763b23fe1f8",
     "locked": true,
     "schema_version": 1,
     "solution": false
    }
   },
   "source": [
    "Now it's time for you to implement your own version of value iteration to solve for the greedy policy and $V^*(s)$."
   ]
  },
  {
   "cell_type": "code",
   "execution_count": 53,
   "metadata": {
    "deletable": false,
    "nbgrader": {
     "checksum": "4ec5804f5a67633ffcbb04d6e0f2addf",
     "grade": true,
     "grade_id": "cell-d473b99fe1825067",
     "locked": false,
     "points": 0,
     "schema_version": 1,
     "solution": true
    }
   },
   "outputs": [],
   "source": [
    "def value_iteration(gamma, mdp):\n",
    "    V = np.zeros([16]) # state value table\n",
    "    \n",
    "    # Complete this function\n",
    "    pi = np.zeros([16])\n",
    "    \n",
    "    S = mdp.get_states()\n",
    "    A = mdp.get_actions()\n",
    "\n",
    "    v_tmp = np.random.random_sample(V.shape)\n",
    "    \n",
    "    while not np.array_equal(v_tmp, V):\n",
    "        \n",
    "        v_tmp = np.copy(V)\n",
    "        \n",
    "        values = np.zeros(4)\n",
    "        \n",
    "        for s in S:\n",
    "            for a in A:\n",
    "                values[a] = mdp.reward_function(s, a) + gamma*(np.sum([mdp.state_transition_func(s, a)[s_p]*V[s_p] for s_p in S]))\n",
    "                \n",
    "            V[s] = np.max(values)\n",
    "            pi[s] = np.argmax(values)\n",
    "\n",
    "    return V, pi"
   ]
  },
  {
   "cell_type": "markdown",
   "metadata": {
    "deletable": false,
    "editable": false,
    "nbgrader": {
     "checksum": "41ca129edbe5353b31ec35933bf28cdb",
     "grade": false,
     "grade_id": "cell-99c149095318adac",
     "locked": true,
     "schema_version": 1,
     "solution": false
    }
   },
   "source": [
    "Run your implementation for the deterministic version of our MDP. As a sanity check, compare your analytical solutions with the output from your implementation."
   ]
  },
  {
   "cell_type": "code",
   "execution_count": 54,
   "metadata": {
    "deletable": false,
    "editable": false,
    "nbgrader": {
     "checksum": "8a8722a6c33a96991f1091e2418def51",
     "grade": false,
     "grade_id": "cell-bd495acfe33d405f",
     "locked": true,
     "schema_version": 1,
     "solution": false
    }
   },
   "outputs": [
    {
     "name": "stdout",
     "output_type": "stream",
     "text": [
      "Values for non-terminal states: \n",
      " [[ 0.6561    0.729     0.81      0.9       1.      ]\n",
      " [ 0.59049   0.        0.        0.81     -1.      ]\n",
      " [ 0.531441  0.59049   0.6561    0.729     0.6561  ]]\n",
      "Value for terminal state: 0.0 \n",
      "\n",
      "Policy for non-terminal states: \n",
      "---------------------\n",
      "| E | E | E | E | N | \n",
      "---------------------\n",
      "| N | N | N | N | N | \n",
      "---------------------\n",
      "| N | E | E | N | W | \n",
      "---------------------\n",
      "                            ---\n",
      "Policy for terminal state: | N |\n",
      "                            ---\n"
     ]
    }
   ],
   "source": [
    "mdp = GridWorldMDP(trans_prob=1.)\n",
    "v, pi = value_iteration(.9, mdp)\n",
    "print_value_table(v)\n",
    "print_policy(pi)"
   ]
  },
  {
   "cell_type": "markdown",
   "metadata": {
    "collapsed": true,
    "deletable": false,
    "editable": false,
    "nbgrader": {
     "checksum": "172eb8e58e4dbdcca83bb2bb8589032d",
     "grade": false,
     "grade_id": "cell-5a24214a0645d4b4",
     "locked": true,
     "schema_version": 1,
     "solution": false
    }
   },
   "source": [
    "Once your implementation passed the sanity check, run it for the stochastic case, where the probability of an action succeding is 0.8, and 0.2 of moving the agent in an orthogonal direction to the intended. Use $\\gamma = .99$."
   ]
  },
  {
   "cell_type": "code",
   "execution_count": 55,
   "metadata": {
    "deletable": false,
    "editable": false,
    "nbgrader": {
     "checksum": "60e210ba654df60fcc54a7d6eda59aae",
     "grade": false,
     "grade_id": "cell-c6d0282ee295bb85",
     "locked": true,
     "schema_version": 1,
     "solution": false
    }
   },
   "outputs": [
    {
     "name": "stdout",
     "output_type": "stream",
     "text": [
      "Values for non-terminal states: \n",
      " [[ 0.93861973  0.95193393  0.9639533   0.97612443  1.        ]\n",
      " [ 0.92691625  0.          0.          0.88371826 -1.        ]\n",
      " [ 0.91395196  0.90255605  0.89130223  0.88057656  0.79978972]]\n",
      "Value for terminal state: 0.0 \n",
      "\n",
      "Policy for non-terminal states: \n",
      "---------------------\n",
      "| E | E | E | E | N | \n",
      "---------------------\n",
      "| N | N | N | W | N | \n",
      "---------------------\n",
      "| N | W | W | W | S | \n",
      "---------------------\n",
      "                            ---\n",
      "Policy for terminal state: | N |\n",
      "                            ---\n"
     ]
    }
   ],
   "source": [
    "# Run for stochastic MDP, gamma = .99\n",
    "mdp = GridWorldMDP()\n",
    "v, pi = value_iteration(.99, mdp)\n",
    "print_value_table(v)\n",
    "print_policy(pi)"
   ]
  },
  {
   "cell_type": "markdown",
   "metadata": {
    "deletable": false,
    "editable": false,
    "nbgrader": {
     "checksum": "6d055e91280e2309b99724e4b6d6b1c6",
     "grade": false,
     "grade_id": "cell-b80f5f5b9d1398a6",
     "locked": true,
     "schema_version": 1,
     "solution": false
    }
   },
   "source": [
    "Does the policy that the algorithm found looks reasonable? For instance, what's the policy for state $S_8$? Is that a good idea? Why?"
   ]
  },
  {
   "cell_type": "markdown",
   "metadata": {
    "deletable": false,
    "nbgrader": {
     "checksum": "c078f48627ee20611cff693693deb293",
     "grade": true,
     "grade_id": "cell-daff5655fe78f131",
     "locked": false,
     "points": 0,
     "schema_version": 1,
     "solution": true
    }
   },
   "source": [
    "**Your answer**:\n",
    "The resulting policy seems very reasonable since the transitions are now probabilistic. If we consider the policy at $S_8$, we see that the best action is to go west. This is probably because $S_8$ is next to $S_9$ that gives a -1 reward and going west has no risk of ending up there. In this way we're guaranteed to always get a positive reward eventually and as the discount is $0.99$, this makes sense."
   ]
  },
  {
   "cell_type": "markdown",
   "metadata": {
    "deletable": false,
    "editable": false,
    "nbgrader": {
     "checksum": "5c94489bd5a5a7608e4fa04705176796",
     "grade": false,
     "grade_id": "cell-d4840da19cbbb63a",
     "locked": true,
     "schema_version": 1,
     "solution": false
    }
   },
   "source": [
    "Test your implementation using this function."
   ]
  },
  {
   "cell_type": "code",
   "execution_count": 59,
   "metadata": {
    "deletable": false,
    "editable": false,
    "nbgrader": {
     "checksum": "e5071817f08d1145df1c5095dab2e7dc",
     "grade": false,
     "grade_id": "cell-f89a5e7709d41efc",
     "locked": true,
     "schema_version": 1,
     "solution": false
    }
   },
   "outputs": [
    {
     "name": "stdout",
     "output_type": "stream",
     "text": [
      "Passed: state-value test, for gamma=.99\n",
      "Passed: policy test, for gamma=.99\n"
     ]
    }
   ],
   "source": [
    "test_value_iteration(v, pi)"
   ]
  },
  {
   "cell_type": "markdown",
   "metadata": {
    "deletable": false,
    "editable": false,
    "nbgrader": {
     "checksum": "7a2a2376284478e5ff87e8fc45681df1",
     "grade": false,
     "grade_id": "cell-32b52b966ea12de5",
     "locked": true,
     "schema_version": 1,
     "solution": false
    }
   },
   "source": [
    "Run value iteration for the same scenario as above, but now with $\\gamma=.9$"
   ]
  },
  {
   "cell_type": "code",
   "execution_count": 60,
   "metadata": {
    "deletable": false,
    "editable": false,
    "nbgrader": {
     "checksum": "45da583d4680e326a85cde59f0373b3e",
     "grade": false,
     "grade_id": "cell-3f797c0f704c2394",
     "locked": true,
     "schema_version": 1,
     "solution": false
    }
   },
   "outputs": [
    {
     "name": "stdout",
     "output_type": "stream",
     "text": [
      "Values for non-terminal states: \n",
      " [[ 0.56631445  0.65360208  0.74438015  0.84776628  1.        ]\n",
      " [ 0.49725171  0.          0.          0.57185903 -1.        ]\n",
      " [ 0.43084446  0.37830245  0.41624465  0.47405641  0.2761765 ]]\n",
      "Value for terminal state: 0.0 \n",
      "\n",
      "Policy for non-terminal states: \n",
      "---------------------\n",
      "| E | E | E | E | N | \n",
      "---------------------\n",
      "| N | N | N | N | N | \n",
      "---------------------\n",
      "| N | W | E | N | W | \n",
      "---------------------\n",
      "                            ---\n",
      "Policy for terminal state: | N |\n",
      "                            ---\n"
     ]
    }
   ],
   "source": [
    "# Run for stochastic MDP, gamma = .9\n",
    "mdp = GridWorldMDP()\n",
    "v, pi = value_iteration(.9, mdp)\n",
    "print_value_table(v)\n",
    "print_policy(pi)"
   ]
  },
  {
   "cell_type": "markdown",
   "metadata": {
    "deletable": false,
    "editable": false,
    "nbgrader": {
     "checksum": "90e75aaf90f849962cc2170695e557c0",
     "grade": false,
     "grade_id": "cell-9192d61af754d47b",
     "locked": true,
     "schema_version": 1,
     "solution": false
    }
   },
   "source": [
    "Do you notice any difference between the greedy policy for the two different discount factors. If so, what's the difference, and why do you think this happened?"
   ]
  },
  {
   "cell_type": "markdown",
   "metadata": {
    "deletable": false,
    "nbgrader": {
     "checksum": "5bd2832c73ff6f59dd2dfe977ff3fd50",
     "grade": true,
     "grade_id": "cell-1a675e7574dce1d5",
     "locked": false,
     "points": 0,
     "schema_version": 1,
     "solution": true
    }
   },
   "source": [
    "**Your answer:** We see that for $\\gamma = 0.99$ the optimal policy favors taking the upper path towards $S_4$. For example, if we are in $S_{13}$, the optimal policy is to go west, going the long way around, instead of taking a shorter path straight to the north. This is probably because going north comes with a risk that we end up in the state giving $-1$ reward due to the $0.1$ probability of moving orthogonally at each step. Since the discount factor is quite forgiving, that is we don't loose that much value of taking extra steps, the optimal policy is to take a more safe way, going back to $S_{10}$ and then following the path north towards $S_4$. In the case where $\\gamma = 0.9$ every additional step is much more expensive and we can see that this forces the policy to be more tolerant to risk and choosing the lower path from $S_{12}$ and onwards."
   ]
  },
  {
   "cell_type": "markdown",
   "metadata": {
    "deletable": false,
    "editable": false,
    "nbgrader": {
     "checksum": "79f657022c51018529b8d26b0ddd63c8",
     "grade": false,
     "grade_id": "cell-01feb7e04644407c",
     "locked": true,
     "schema_version": 1,
     "solution": false
    }
   },
   "source": [
    "## Task 2: Q-learning\n",
    "\n",
    "In the previous task, you solved for $V^*(s)$ and the greedy policy $\\pi^*(s)$, with the entire model of the MDP being available to you. This is however not very practical since for most problems we are trying to solve, the model is not known, and estimating the model is quite often a very tedious process which often also requires a lot of simplifications. \n",
    "\n",
    "#### Q-learning algorithm\n",
    "$\n",
    "\\text{Initialize}~Q(s,a), ~ \\forall~ s \\in {\\cal S},~ a~\\in {\\cal A} \\\\\n",
    "\\textbf{Repeat}~\\text{(for each episode):}\\\\\n",
    "\\quad \\text{Initialize}~s\\\\\n",
    "\\qquad \\textbf{Repeat}~\\text{(for each step in episode):}\\\\\n",
    "\\qquad\\quad \\text{Chose $a$ from $s$ using poliy derived from $Q$ (e.g., $\\epsilon$-greedy)}\\\\\n",
    "\\qquad\\quad \\text{Take action a, observe r, s'}\\\\\n",
    "\\qquad\\quad Q(s,a) \\leftarrow Q(s,a) + \\alpha \\left(r + \\gamma~\\underset{a}{\\text{max}}~Q(s',a) - Q(s,a) \\right) \\\\\n",
    "\\qquad\\quad s \\leftarrow s' \\\\\n",
    "\\qquad \\text{Until s is terminal}\n",
    "$"
   ]
  },
  {
   "cell_type": "markdown",
   "metadata": {
    "deletable": false,
    "editable": false,
    "nbgrader": {
     "checksum": "f704f54a37111f555333212087572ac6",
     "grade": false,
     "grade_id": "cell-c974d24244fe78ca",
     "locked": true,
     "schema_version": 1,
     "solution": false
    }
   },
   "source": [
    "### Task 2.1 Model-free control\n",
    "Why is it that Q-learning does not require a model of the MDP to solve for it?  "
   ]
  },
  {
   "cell_type": "markdown",
   "metadata": {
    "deletable": false,
    "nbgrader": {
     "checksum": "b369cc3d0a009ff83d971bc83c58fe69",
     "grade": true,
     "grade_id": "cell-448842959cfe9780",
     "locked": false,
     "points": 0,
     "schema_version": 1,
     "solution": true
    }
   },
   "source": [
    "**Your answer:** One advantage of Q-leaning is that it doesn't rely on the value function. It is only the action value function that we update and use to improve our policy. This is crucial since we can't evaluate the value function when the MDP is unknown."
   ]
  },
  {
   "cell_type": "markdown",
   "metadata": {
    "deletable": false,
    "editable": false,
    "nbgrader": {
     "checksum": "9570fd8489dd5eec632778ab56e56c8b",
     "grade": false,
     "grade_id": "cell-bbe7f99d1cc4e6af",
     "locked": true,
     "schema_version": 1,
     "solution": false
    }
   },
   "source": [
    "### Task 2.2  Implement an $\\epsilon$-greedy policy\n",
    "The goal of the Q-learning algorithm is to find the optimal policy $\\pi^*$, by estimating the state action value function under the optimal policy, i.e. $Q^*(s, a)$. From $Q^*(s,a)$, the agent can follow $\\pi^*$, by choosing the action with that yields the largest expected value for each state, i.e. $\\underset{a}{\\text{argmax}}~Q^*(s, a)$.\n",
    "\n",
    "However, when training a Q-learning model, the agent typically follows another policy to explore the environment. In reinforcement learning this is known as off-policy learning. \n",
    "\n",
    "Your task is to implement a widely popular exploration policy, known as  the $\\epsilon$-greedy policy, in the cell below.\n",
    "\n",
    "An $\\epsilon$-Greedy policy should:\n",
    "* with probability $\\epsilon$ take an uniformly-random action.\n",
    "* otherwise choose the best action according to the estimated state action values."
   ]
  },
  {
   "cell_type": "code",
   "execution_count": 61,
   "metadata": {
    "deletable": false,
    "nbgrader": {
     "checksum": "ec694eb01517a447e2d27c05d3e69b9a",
     "grade": true,
     "grade_id": "cell-48c826a87791fb56",
     "locked": false,
     "points": 0,
     "schema_version": 1,
     "solution": true
    }
   },
   "outputs": [],
   "source": [
    "import random\n",
    "\n",
    "def eps_greedy_policy(q_values, eps):\n",
    "    '''\n",
    "    Creates an epsilon-greedy policy\n",
    "    :param q_values: set of Q-values of shape (num actions,)\n",
    "    :param eps: probability of taking a uniform random action \n",
    "    :return: policy of shape (num actions,)\n",
    "    '''\n",
    "    # Complete this function\n",
    "    policy = np.zeros(q_values.shape)\n",
    "    rand = random.uniform(0, 1)\n",
    "    \n",
    "    if rand < eps:\n",
    "        policy[:] = 1 / len(policy)\n",
    "    \n",
    "    else:\n",
    "        best_action = np.argmax(q_values)\n",
    "        policy[best_action] = 1\n",
    "        \n",
    "    return policy    "
   ]
  },
  {
   "cell_type": "markdown",
   "metadata": {
    "deletable": false,
    "editable": false,
    "nbgrader": {
     "checksum": "583492c65cb090c181c66b42c2a51eff",
     "grade": false,
     "grade_id": "cell-6d33489b428b1179",
     "locked": true,
     "schema_version": 1,
     "solution": false
    }
   },
   "source": [
    "Run the cell below to test your implementation"
   ]
  },
  {
   "cell_type": "code",
   "execution_count": 62,
   "metadata": {
    "deletable": false,
    "editable": false,
    "nbgrader": {
     "checksum": "8803a2f8fb24390fc517a97579e04242",
     "grade": false,
     "grade_id": "cell-80bd577e278ec0b0",
     "locked": true,
     "schema_version": 1,
     "solution": false
    }
   },
   "outputs": [
    {
     "name": "stdout",
     "output_type": "stream",
     "text": [
      "Test passed, good job!\n"
     ]
    }
   ],
   "source": [
    "mdp = GridWorldMDP()\n",
    "\n",
    "# Test shape of output\n",
    "actions = mdp.get_actions()\n",
    "for eps in (0, 1):\n",
    "    foo = np.zeros([len(actions)])\n",
    "    foo[0] = 1.\n",
    "    eps_greedy = eps_greedy_policy(foo, eps)\n",
    "    assert foo.shape == eps_greedy.shape, \"wrong shape of output\"\n",
    "actions = [i for i in range(10)]\n",
    "for eps in (0, 1):\n",
    "    foo = np.zeros([len(actions)])\n",
    "    foo[0] = 1.\n",
    "    eps_greedy = eps_greedy_policy(foo, eps)\n",
    "    assert foo.shape == eps_greedy.shape, \"wrong shape of output\"\n",
    "\n",
    "# Test for greedy actions\n",
    "for a in actions:\n",
    "    foo = np.zeros([len(actions)])\n",
    "    foo[a] = 1.\n",
    "    eps_greedy = eps_greedy_policy(foo, 0)\n",
    "    assert np.array_equal(foo, eps_greedy), \"policy is not greedy\"\n",
    "\n",
    "# Test for uniform distribution, when eps=1\n",
    "eps_greedy = eps_greedy_policy(foo, 1)\n",
    "assert all(p==eps_greedy[0] for p in eps_greedy) and np.sum(eps_greedy)==1, \\\n",
    "\"policy does not return a uniform distribution for eps=1\"\n",
    "\n",
    "print('Test passed, good job!')"
   ]
  },
  {
   "cell_type": "markdown",
   "metadata": {
    "deletable": false,
    "editable": false,
    "nbgrader": {
     "checksum": "21d88565b3663fe971606656dd045804",
     "grade": false,
     "grade_id": "cell-1dccaeebe5a41325",
     "locked": true,
     "schema_version": 1,
     "solution": false
    }
   },
   "source": [
    "### Task 2.2: Implement the Q-learning algorithm\n",
    "\n",
    "Now it's time to actually implement the Q-learning algorithm. Unlike the Value iteration where there is no direct interactions with the environment, the Q-learning algorithm builds up its estimations by interacting and exploring the environment. \n",
    "\n",
    "To enable the agent to explore the environment a set of helper functions are provided:"
   ]
  },
  {
   "cell_type": "code",
   "execution_count": 63,
   "metadata": {
    "deletable": false,
    "editable": false,
    "nbgrader": {
     "checksum": "02bb92b833a3dc4e535cda13a4a1fae4",
     "grade": false,
     "grade_id": "cell-881edd2be439489e",
     "locked": true,
     "schema_version": 1,
     "solution": false
    }
   },
   "outputs": [
    {
     "name": "stdout",
     "output_type": "stream",
     "text": [
      "Help on function reset in module gridworld_mdp:\n",
      "\n",
      "reset(self)\n",
      "    Resets the environment and the agent is positioned in the initial state in the bottom left corner.\n",
      "    :return: state, reward, terminal\n",
      "\n"
     ]
    }
   ],
   "source": [
    "help(GridWorldMDP.reset)"
   ]
  },
  {
   "cell_type": "code",
   "execution_count": 15,
   "metadata": {
    "deletable": false,
    "editable": false,
    "nbgrader": {
     "checksum": "589834a8662125b7792560c134990d91",
     "grade": false,
     "grade_id": "cell-061e7670ebd7b35c",
     "locked": true,
     "schema_version": 1,
     "solution": false
    }
   },
   "outputs": [
    {
     "name": "stdout",
     "output_type": "stream",
     "text": [
      "Help on function step in module gridworld_mdp:\n",
      "\n",
      "step(self, action)\n",
      "    Takes one step in the environment using the selected action\n",
      "    :param action: action to execute, integer\n",
      "    :return: state, reward, terminal\n",
      "\n"
     ]
    }
   ],
   "source": [
    "help(GridWorldMDP.step)"
   ]
  },
  {
   "cell_type": "markdown",
   "metadata": {
    "deletable": false,
    "editable": false,
    "nbgrader": {
     "checksum": "8b92ae99e0b252016ed7040a0f706cec",
     "grade": false,
     "grade_id": "cell-15fa6bbf763cdc6f",
     "locked": true,
     "schema_version": 1,
     "solution": false
    }
   },
   "source": [
    "Implement your version of Q-learning in the cell below. \n",
    "\n",
    "**Hint:** It might be useful to study the pseudocode provided above. "
   ]
  },
  {
   "cell_type": "code",
   "execution_count": 64,
   "metadata": {
    "deletable": false,
    "nbgrader": {
     "checksum": "465ba05d25e3bc7b0121f8a025b38831",
     "grade": true,
     "grade_id": "cell-3912d729d9527acd",
     "locked": false,
     "points": 0,
     "schema_version": 1,
     "solution": true
    }
   },
   "outputs": [],
   "source": [
    "def q_learning(eps, gamma):\n",
    "    Q = np.zeros([16, 4]) # state action value table\n",
    "    pi = np.zeros([16]) # greedy policy table\n",
    "    alpha = .01\n",
    "    \n",
    "    # Complete this function\n",
    "    episodes = 5000\n",
    "    mdp = GridWorldMDP()\n",
    "    \n",
    "    for e in range(episodes):\n",
    "        \n",
    "        state, reward, terminal = mdp.reset()\n",
    "        \n",
    "        while(not terminal):\n",
    "            \n",
    "            actions = eps_greedy_policy(Q[state], eps)\n",
    "            action = np.argmax(actions)\n",
    "            \n",
    "            if np.max(actions) != 1:\n",
    "                action = random.randint(0, len(actions) - 1)\n",
    "            \n",
    "            state_p, reward, terminal = mdp.step(action)\n",
    "    \n",
    "            Q[state,action] = Q[state,action] + alpha*(reward + (gamma * np.max(Q[state_p]) - Q[state,action]))\n",
    "            \n",
    "            state = state_p\n",
    "            \n",
    "    pi = np.argmax(Q, axis=1)\n",
    "    \n",
    "    return pi, Q"
   ]
  },
  {
   "cell_type": "markdown",
   "metadata": {
    "deletable": false,
    "editable": false,
    "nbgrader": {
     "checksum": "2db55b6a6838a75f15ef87f979ead425",
     "grade": false,
     "grade_id": "cell-b48032d234ecb11d",
     "locked": true,
     "schema_version": 1,
     "solution": false
    }
   },
   "source": [
    "Run Q-learning with  $\\epsilon = 1$ for the MDP with $\\gamma=0.99$"
   ]
  },
  {
   "cell_type": "code",
   "execution_count": 65,
   "metadata": {
    "deletable": false,
    "editable": false,
    "nbgrader": {
     "checksum": "bebc79f9656b76b9e936221eb633cc4b",
     "grade": false,
     "grade_id": "cell-0464324eb2e2bf9c",
     "locked": true,
     "schema_version": 1,
     "solution": false
    }
   },
   "outputs": [
    {
     "name": "stdout",
     "output_type": "stream",
     "text": [
      "Policy for non-terminal states: \n",
      "---------------------\n",
      "| E | E | E | E | E | \n",
      "---------------------\n",
      "| N | N | N | W | W | \n",
      "---------------------\n",
      "| N | W | W | W | S | \n",
      "---------------------\n",
      "                            ---\n",
      "Policy for terminal state: | N |\n",
      "                            ---\n"
     ]
    }
   ],
   "source": [
    "pi, Q = q_learning(1, .99)\n",
    "print_policy(pi)"
   ]
  },
  {
   "cell_type": "markdown",
   "metadata": {
    "deletable": false,
    "editable": false,
    "nbgrader": {
     "checksum": "9bc5026e570acf5162847f04d4b2daf3",
     "grade": false,
     "grade_id": "cell-a424df8abe557f2e",
     "locked": true,
     "schema_version": 1,
     "solution": false
    }
   },
   "source": [
    "Test your implementation by running the cell below"
   ]
  },
  {
   "cell_type": "code",
   "execution_count": 66,
   "metadata": {
    "deletable": false,
    "editable": false,
    "nbgrader": {
     "checksum": "fe0420c08764bdf6ddec81e380ccf729",
     "grade": false,
     "grade_id": "cell-e2832d3538099d67",
     "locked": true,
     "schema_version": 1,
     "solution": false
    }
   },
   "outputs": [
    {
     "name": "stdout",
     "output_type": "stream",
     "text": [
      "Passed: policy test, for gamma=.99\n"
     ]
    }
   ],
   "source": [
    "test_q_learning(Q)"
   ]
  },
  {
   "cell_type": "markdown",
   "metadata": {
    "deletable": false,
    "editable": false,
    "nbgrader": {
     "checksum": "49f7e5d4884836a1c3c968b767d51f40",
     "grade": false,
     "grade_id": "cell-d3623c3f5c170bd4",
     "locked": true,
     "schema_version": 1,
     "solution": false
    }
   },
   "source": [
    "Run Q-learning with $\\epsilon=0$"
   ]
  },
  {
   "cell_type": "code",
   "execution_count": 67,
   "metadata": {
    "deletable": false,
    "editable": false,
    "nbgrader": {
     "checksum": "8913eaf75e0f0d1c388d682d5767e0e6",
     "grade": false,
     "grade_id": "cell-1c095409c30320d7",
     "locked": true,
     "schema_version": 1,
     "solution": false
    }
   },
   "outputs": [
    {
     "name": "stdout",
     "output_type": "stream",
     "text": [
      "Policy for non-terminal states: \n",
      "---------------------\n",
      "| N | N | N | N | N | \n",
      "---------------------\n",
      "| N | N | N | N | E | \n",
      "---------------------\n",
      "| N | N | N | N | W | \n",
      "---------------------\n",
      "                            ---\n",
      "Policy for terminal state: | N |\n",
      "                            ---\n"
     ]
    }
   ],
   "source": [
    "pi, Q = q_learning(0, .99)\n",
    "print_policy(pi)"
   ]
  },
  {
   "cell_type": "markdown",
   "metadata": {
    "deletable": false,
    "editable": false,
    "nbgrader": {
     "checksum": "f8211c5750767a6a9ad1290cffb73aa7",
     "grade": false,
     "grade_id": "cell-d3383d13bae73e68",
     "locked": true,
     "schema_version": 1,
     "solution": false
    }
   },
   "source": [
    "You ran your implementation with $\\epsilon$ set to both 0 and 1. What are the results, and your conclusions?"
   ]
  },
  {
   "cell_type": "markdown",
   "metadata": {
    "deletable": false,
    "nbgrader": {
     "checksum": "f4556e9c53e5bfbac90a17601f48d1c1",
     "grade": true,
     "grade_id": "cell-54eb158e84c99275",
     "locked": false,
     "points": 0,
     "schema_version": 1,
     "solution": true
    }
   },
   "source": [
    "**Your answer:** For $\\epsilon = 1$ we update the policy non-greedily with maximum exploration. We see that this results in a good policy but takes a lot of time to reach it. This is due to the fact that we always choose actions randomly. For $\\epsilon = 0$, on the other hand, the update is extremely greedy and has no exploration. This results in a policy that is to take action 'North' at every step. This is reasonable since during the first episode, we have no information about the grid world at all, that is all actions are equally as good. But since the argmax function by default chooses the first argument in this case, the first episode chooses 'North' all the time. The resulting path leads to a reward of $+1$, since we can go east with $0.1$ probability. Thus we get stuck in this policy for all future iterations as well, due to the lack of exploration and end up with a sub-optimal policy."
   ]
  },
  {
   "cell_type": "markdown",
   "metadata": {
    "deletable": false,
    "editable": false,
    "nbgrader": {
     "checksum": "f272655e0a5e12f3fcfe70c514467e1f",
     "grade": false,
     "grade_id": "cell-ae2a001335118014",
     "locked": true,
     "schema_version": 1,
     "solution": false
    }
   },
   "source": [
    "# Task 3: Deep Double Q-learning (DDQN)\n",
    "For this task, you will implement a DDQN (double deep Q-learning network) to solve one of the problems of the OpenAI gym. Before we get into details about these type of networks, let's first review the simpler, DQN (deep Q-learning network) version. \n",
    "\n",
    "#### Deep Q Networks\n",
    "As we saw in the video lectures, using a neural network as a state action value approximator is a great idea. However, if one tries to use this approach with Q-learning, it's very likely that the optimization will be very unstable. To remediate this, two main ideas are used. First, we use experience replay, in order to decorrelate the experience samples we obtain when exploring the environment. Second, we use two networks instead of one, in order to fix the optimization targets. That is, for a given minibatch sampled from the replay buffer, we'll optimize the weights of only one of the networks (commonly denoted as the \"online\" network), using the gradients w.r.t a loss function. This loss function is computed as the mean squared error between the current action values, computed according to the **online** network, and the temporal difference (TD) targets, computed using the other, **fixed network** (which we'll refer to as the \"target\" network).\n",
    "\n",
    "That is, the loss function is \n",
    "\n",
    "$$ L(\\theta) = \\frac{1}{N}\\sum_{i=1}^N \\left(Q(s_i,a_i; \\theta\\right) - Y_i)^2~,$$\n",
    "\n",
    "where $N$ is the number of samples in your minibatch, $Q(s,a;\\theta)$ is the state action value estimate, according to the online network (with parameters $\\theta$), and $Y_t$ is the TD target, computed as\n",
    "\n",
    "$$ Y_i = r_i +  \\gamma ~\\underset{a}{\\text{max}}~Q(s_i', a; \\theta^-)~, $$\n",
    "\n",
    "where $Q(s', a;\\theta')$ is the action value estimate, according to the fixed network (with parameters $\\theta^-$).\n",
    "\n",
    "Finally, so that the offline parameters are also updated, we periodically change the roles of the networks, fixing the online one, and training the other.\n",
    "\n",
    "#### Double Deep Q Networks\n",
    "\n",
    "The idea explained above works well in practice, but later it was discovered that this approach is very prone to overestimating the state action values. The main reason for this is that the max operator, used to select the greedy action when computing the TD target, uses the same values both to select and to evaluate an action (this tends to prefer overestimated actions). In order to prevent this, we can decouple the selection from the evaluation, which is the idea that created DDQN. More concretely, the TD target for a DDQN is now \n",
    "\n",
    "$$ Y_i = r_i + \\gamma Q(s_i', \\underset{a}{\\text{argmax}}Q(s_i',a;\\theta); \\theta^-)~. $$\n",
    "\n",
    "Hence, we're using the **online** network to select which action is best, but we use the **fixed** network to evaluate the state action value for that chosen action in the next state. This is what makes DDQN not overestimate (as much) the state action values, which in turn helps us to train faster and obtain better policies.\n",
    "\n",
    "\n"
   ]
  },
  {
   "cell_type": "markdown",
   "metadata": {
    "deletable": false,
    "editable": false,
    "nbgrader": {
     "checksum": "ffc8f76962e410ad44919896b9d0de31",
     "grade": false,
     "grade_id": "cell-b37fc5ebe369b45a",
     "locked": true,
     "schema_version": 1,
     "solution": false
    }
   },
   "source": [
    "#### Environment\n",
    "\n",
    "The problem you will solve for this task is the inverted pendulum problem. \n",
    "On [Open AIs environment documentation](https://gym.openai.com/envs/CartPole-v0) , the following description is provided:\n",
    "\n",
    "*A pole is attached by an un-actuated joint to a cart, which moves along a frictionless track. The system is controlled by applying a force of +1 or -1 to the cart. The pendulum starts upright, and the goal is to prevent it from falling over. A reward of +1 is provided for every time step that the pole remains upright. The episode ends when the pole is more than 15 degrees from vertical, or the cart moves more than 2.4 units from the center.*\n",
    "\n",
    "![title](./cartpole.jpg) \n",
    "\n",
    "#### Implementation\n",
    "We'll solve this task using a DDQN. Most of the code is provided for you, in the file **ddqn_model.py**. This file contains the implementation of a neural network, which is described in the table below (feel free to experiment with different architectures).\n",
    "\n",
    "|Layer 1: units, activation | Layer 2: units, activation | Layer 3: units, activation | Cost function |\n",
    "|---------------------------|----------------------------|----------------------------|---------------|\n",
    "| 100, ReLu                 | 60, ReLu                   | number of actions, linear | MSE           |\n",
    "\n",
    "The only missing part of the code is the function that computes the TD targets for each minibatch of samples."
   ]
  },
  {
   "cell_type": "markdown",
   "metadata": {
    "deletable": false,
    "editable": false,
    "nbgrader": {
     "checksum": "55a5b74265fad2a849d7bcf7b7d09d45",
     "grade": false,
     "grade_id": "cell-ae647de789982b2e",
     "locked": true,
     "schema_version": 1,
     "solution": false
    }
   },
   "source": [
    "## Task 3.1:  Calculate TD-target\n",
    "\n",
    "For this task, you will calculate the temporal difference target used for the loss in the double Q-learning algorithm. Your implementation should follow precisely the equation defined above for the TD target of DDQNs, with one exception: when s' is terminal, the TD target for it should simply be $ Y_i = r_i$. Why is this necessary?"
   ]
  },
  {
   "cell_type": "markdown",
   "metadata": {
    "deletable": false,
    "nbgrader": {
     "checksum": "40e03a98c7372496040da5499e1fc29a",
     "grade": true,
     "grade_id": "cell-d28bf13d3d581368",
     "locked": false,
     "points": 0,
     "schema_version": 1,
     "solution": true
    }
   },
   "source": [
    "**Your answer:** Since the agent is in the terminal state in this case, we simply add the reward for the transistion."
   ]
  },
  {
   "cell_type": "markdown",
   "metadata": {
    "deletable": false,
    "editable": false,
    "nbgrader": {
     "checksum": "f6a429aaede47e041414f7fac4093390",
     "grade": false,
     "grade_id": "cell-26a12456d7c70776",
     "locked": true,
     "schema_version": 1,
     "solution": false
    }
   },
   "source": [
    "Implement your function in the following cell."
   ]
  },
  {
   "cell_type": "code",
   "execution_count": 68,
   "metadata": {
    "deletable": false,
    "nbgrader": {
     "checksum": "5b73cff549519ebc4c082c01928539b0",
     "grade": true,
     "grade_id": "cell-e73bca0bd9d5574a",
     "locked": false,
     "points": 0,
     "schema_version": 1,
     "solution": true
    }
   },
   "outputs": [],
   "source": [
    "def calculate_td_targets(q1_batch, q2_batch, r_batch, t_batch, gamma=.99):\n",
    "    '''\n",
    "    Calculates the TD-target used for the loss\n",
    "    : param q1_batch: Batch of Q(s', a) from online network, shape (N, num actions)\n",
    "    : param q2_batch: Batch of Q(s', a) from target network, shape (N, num actions)\n",
    "    : param r_batch: Batch of rewards, shape (N, 1)\n",
    "    : param t_batch: Batch of booleans indicating if state, s' is terminal, shape (N, 1)\n",
    "    : return: TD-target, shape (N, 1)\n",
    "    '''\n",
    "    \n",
    "    # Complete this function\n",
    "    Y = np.zeros(r_batch.shape)\n",
    "    N = len(r_batch)\n",
    "    \n",
    "    Y = np.zeros(r_batch.shape)\n",
    "    \n",
    "    for i in range(N):\n",
    "        if t_batch[i]:\n",
    "            Y[i] = r_batch[i]\n",
    "        else:\n",
    "            Y[i] = r_batch[i] + gamma * q2_batch[i, np.argmax(q1_batch[i])]\n",
    "\n",
    "    return Y"
   ]
  },
  {
   "cell_type": "markdown",
   "metadata": {
    "deletable": false,
    "editable": false,
    "nbgrader": {
     "checksum": "b22afaa707ff45fb62badaadf2d632e7",
     "grade": false,
     "grade_id": "cell-401656fa71e3f227",
     "locked": true,
     "schema_version": 1,
     "solution": false
    }
   },
   "source": [
    "Test your implementation by trying to solve the reinforcement learning problem for the Cartpole environment. The following cell defines the `train_loop_ddqn` function, which will be called ahead.\n",
    "\n",
    "**Note:** If you have issues with the env.render() command below on your system, you may simply comment it out. However, you would be missing out on a visualization of the training episodes."
   ]
  },
  {
   "cell_type": "code",
   "execution_count": 69,
   "metadata": {},
   "outputs": [
    {
     "name": "stderr",
     "output_type": "stream",
     "text": [
      "c:\\users\\conta\\anaconda3\\envs\\tensorflow\\lib\\site-packages\\h5py\\__init__.py:36: FutureWarning: Conversion of the second argument of issubdtype from `float` to `np.floating` is deprecated. In future, it will be treated as `np.float64 == np.dtype(float).type`.\n",
      "  from ._conv import register_converters as _register_converters\n",
      "Using TensorFlow backend.\n"
     ]
    }
   ],
   "source": [
    "# Import dependencies\n",
    "import numpy as np\n",
    "import gym\n",
    "from keras.utils.np_utils import to_categorical as one_hot\n",
    "from collections import namedtuple\n",
    "from dqn_model import DoubleQLearningModel, ExperienceReplay\n",
    "\n",
    "def train_loop_ddqn(model, env, num_episodes, batch_size=64, gamma=.94):        \n",
    "    Transition = namedtuple(\"Transition\", [\"s\", \"a\", \"r\", \"next_s\", \"t\"])\n",
    "    eps = 1.\n",
    "    eps_end = .1 \n",
    "    eps_decay = .001\n",
    "    R_buffer = []\n",
    "    R_avg = []\n",
    "    for i in range(num_episodes):\n",
    "        state = env.reset() #reset to initial state\n",
    "        state = np.expand_dims(state, axis=0)/2\n",
    "        terminal = False # reset terminal flag\n",
    "        ep_reward = 0\n",
    "        q_buffer = []\n",
    "        steps = 0\n",
    "        while not terminal:\n",
    "            #env.render() # comment this line out if you don't want to / cannot render the environment on your system\n",
    "            steps += 1\n",
    "            q_values = model.get_q_values(state)\n",
    "            q_buffer.append(q_values)\n",
    "            policy = eps_greedy_policy(q_values.squeeze(), eps) \n",
    "            action = np.random.choice(num_actions, p=policy) # sample action from epsilon-greedy policy\n",
    "            new_state, reward, terminal, _ = env.step(action) # take one step in the evironment\n",
    "            new_state = np.expand_dims(new_state, axis=0)/2\n",
    "            \n",
    "            # only use the terminal flag for ending the episode and not for training\n",
    "            # if the flag is set due to that the maximum amount of steps is reached \n",
    "            t_to_buffer = terminal if not steps == 200 else False\n",
    "            \n",
    "            # store data to replay buffer\n",
    "            replay_buffer.add(Transition(s=state, a=action, r=reward, next_s=new_state, t=t_to_buffer))\n",
    "            state = new_state\n",
    "            ep_reward += reward\n",
    "            \n",
    "            # if buffer contains more than 1000 samples, perform one training step\n",
    "            if replay_buffer.buffer_length > 1000:\n",
    "                s, a, r, s_, t = replay_buffer.sample_minibatch(batch_size) # sample a minibatch of transitions\n",
    "                q_1, q_2 = model.get_q_values_for_both_models(np.squeeze(s_))\n",
    "                td_target = calculate_td_targets(q_1, q_2, r, t, gamma)\n",
    "                model.update(s, td_target, a)    \n",
    "                \n",
    "        eps = max(eps - eps_decay, eps_end) # decrease epsilon        \n",
    "        R_buffer.append(ep_reward)\n",
    "        \n",
    "        # running average of episodic rewards\n",
    "        R_avg.append(.05 * R_buffer[i] + .95 * R_avg[i-1]) if i > 0 else R_avg.append(R_buffer[i])\n",
    "        print('Episode: ', i, 'Reward:', ep_reward, 'Epsilon', eps, 'mean q', np.mean(np.array(q_buffer)))\n",
    "        \n",
    "        # if running average > 195, the task is considerd solved\n",
    "        if R_avg[-1] > 195:\n",
    "            return R_buffer, R_avg\n",
    "    return R_buffer, R_avg"
   ]
  },
  {
   "cell_type": "markdown",
   "metadata": {
    "deletable": false,
    "editable": false,
    "nbgrader": {
     "checksum": "51f90902daf95d61d17b1d2c32877abf",
     "grade": false,
     "grade_id": "cell-75c84628ce999711",
     "locked": true,
     "schema_version": 1,
     "solution": false
    }
   },
   "source": [
    "and the next cell performs the actual training. \n",
    "\n",
    "A Working implementation should start to improve after 500 episodes. An episodic reward of around 200 is likely to be achieved after 800 episodes for a batchsize of 128, and 1000 episodes for a batchsize of 64. "
   ]
  },
  {
   "cell_type": "code",
   "execution_count": 70,
   "metadata": {},
   "outputs": [
    {
     "name": "stdout",
     "output_type": "stream",
     "text": [
      "Episode:  0 Reward: 20.0 Epsilon 0.999 mean q 1.2811613e-07\n",
      "Episode:  1 Reward: 20.0 Epsilon 0.998 mean q 2.0109064e-07\n",
      "Episode:  2 Reward: 16.0 Epsilon 0.997 mean q 2.1976324e-07\n",
      "Episode:  3 Reward: 61.0 Epsilon 0.996 mean q 3.2107714e-08\n",
      "Episode:  4 Reward: 17.0 Epsilon 0.995 mean q -7.4929815e-08\n",
      "Episode:  5 Reward: 13.0 Epsilon 0.994 mean q 2.1491267e-07\n",
      "Episode:  6 Reward: 46.0 Epsilon 0.993 mean q 7.091407e-09\n",
      "Episode:  7 Reward: 15.0 Epsilon 0.992 mean q 2.212693e-07\n",
      "Episode:  8 Reward: 17.0 Epsilon 0.991 mean q -8.1693805e-08\n",
      "Episode:  9 Reward: 22.0 Epsilon 0.99 mean q -1.2913603e-08\n",
      "Episode:  10 Reward: 20.0 Epsilon 0.989 mean q -5.4906018e-09\n",
      "Episode:  11 Reward: 25.0 Epsilon 0.988 mean q -5.427137e-08\n",
      "Episode:  12 Reward: 11.0 Epsilon 0.987 mean q -9.150147e-08\n",
      "Episode:  13 Reward: 21.0 Epsilon 0.986 mean q 4.2759556e-08\n",
      "Episode:  14 Reward: 34.0 Epsilon 0.985 mean q 1.2419079e-07\n",
      "Episode:  15 Reward: 35.0 Epsilon 0.984 mean q -1.6747313e-08\n",
      "Episode:  16 Reward: 14.0 Epsilon 0.983 mean q -6.2838595e-08\n",
      "Episode:  17 Reward: 19.0 Epsilon 0.982 mean q -6.1556996e-08\n",
      "Episode:  18 Reward: 20.0 Epsilon 0.981 mean q -5.7909496e-08\n",
      "Episode:  19 Reward: 24.0 Epsilon 0.98 mean q 8.244009e-08\n",
      "Episode:  20 Reward: 14.0 Epsilon 0.979 mean q 1.5474102e-07\n",
      "Episode:  21 Reward: 19.0 Epsilon 0.978 mean q -5.9340724e-08\n",
      "Episode:  22 Reward: 23.0 Epsilon 0.977 mean q -4.1539074e-08\n",
      "Episode:  23 Reward: 15.0 Epsilon 0.976 mean q -8.4440565e-08\n",
      "Episode:  24 Reward: 14.0 Epsilon 0.975 mean q 2.6045205e-07\n",
      "Episode:  25 Reward: 15.0 Epsilon 0.974 mean q -8.331821e-08\n",
      "Episode:  26 Reward: 13.0 Epsilon 0.973 mean q -1.05924116e-07\n",
      "Episode:  27 Reward: 12.0 Epsilon 0.972 mean q 2.0270859e-07\n",
      "Episode:  28 Reward: 13.0 Epsilon 0.971 mean q 2.454706e-07\n",
      "Episode:  29 Reward: 39.0 Epsilon 0.97 mean q -1.1833848e-08\n",
      "Episode:  30 Reward: 39.0 Epsilon 0.969 mean q 8.266934e-09\n",
      "Episode:  31 Reward: 28.0 Epsilon 0.968 mean q 3.498479e-08\n",
      "Episode:  32 Reward: 12.0 Epsilon 0.967 mean q -9.5364406e-08\n",
      "Episode:  33 Reward: 30.0 Epsilon 0.966 mean q 1.1172571e-07\n",
      "Episode:  34 Reward: 9.0 Epsilon 0.965 mean q 3.0244635e-07\n",
      "Episode:  35 Reward: 15.0 Epsilon 0.964 mean q 2.2465377e-07\n",
      "Episode:  36 Reward: 20.0 Epsilon 0.963 mean q 1.3617385e-07\n",
      "Episode:  37 Reward: 19.0 Epsilon 0.962 mean q 1.6912504e-07\n",
      "Episode:  38 Reward: 44.0 Epsilon 0.961 mean q 1.3099026e-07\n",
      "Episode:  39 Reward: 16.0 Epsilon 0.96 mean q -6.623359e-08\n",
      "Episode:  40 Reward: 15.0 Epsilon 0.959 mean q -8.3246945e-08\n",
      "Episode:  41 Reward: 27.0 Epsilon 0.958 mean q 3.2796248e-09\n",
      "Episode:  42 Reward: 13.0 Epsilon 0.957 mean q -8.445308e-08\n",
      "Episode:  43 Reward: 18.0 Epsilon 0.956 mean q 1.8568375e-07\n",
      "Episode:  44 Reward: 10.0 Epsilon 0.955 mean q 3.5908812e-07\n",
      "Episode:  45 Reward: 45.0 Epsilon 0.954 mean q 0.0004737048\n",
      "Episode:  46 Reward: 46.0 Epsilon 0.953 mean q 0.0069984742\n",
      "Episode:  47 Reward: 17.0 Epsilon 0.952 mean q 0.022749485\n",
      "Episode:  48 Reward: 24.0 Epsilon 0.951 mean q 0.028757887\n",
      "Episode:  49 Reward: 19.0 Epsilon 0.95 mean q 0.04907976\n",
      "Episode:  50 Reward: 21.0 Epsilon 0.949 mean q 0.03951368\n",
      "Episode:  51 Reward: 26.0 Epsilon 0.948 mean q 0.061058648\n",
      "Episode:  52 Reward: 26.0 Epsilon 0.947 mean q 0.08645007\n",
      "Episode:  53 Reward: 16.0 Epsilon 0.946 mean q 0.10481109\n",
      "Episode:  54 Reward: 27.0 Epsilon 0.945 mean q 0.11539386\n",
      "Episode:  55 Reward: 18.0 Epsilon 0.944 mean q 0.1270936\n",
      "Episode:  56 Reward: 29.0 Epsilon 0.943 mean q 0.11915301\n",
      "Episode:  57 Reward: 12.0 Epsilon 0.942 mean q 0.1609245\n",
      "Episode:  58 Reward: 31.0 Epsilon 0.941 mean q 0.190897\n",
      "Episode:  59 Reward: 20.0 Epsilon 0.94 mean q 0.16623342\n",
      "Episode:  60 Reward: 20.0 Epsilon 0.939 mean q 0.21214509\n",
      "Episode:  61 Reward: 12.0 Epsilon 0.938 mean q 0.33378395\n",
      "Episode:  62 Reward: 19.0 Epsilon 0.9369999999999999 mean q 0.34410125\n",
      "Episode:  63 Reward: 16.0 Epsilon 0.9359999999999999 mean q 0.28485766\n",
      "Episode:  64 Reward: 17.0 Epsilon 0.9349999999999999 mean q 0.39677957\n",
      "Episode:  65 Reward: 26.0 Epsilon 0.9339999999999999 mean q 0.29394343\n",
      "Episode:  66 Reward: 12.0 Epsilon 0.9329999999999999 mean q 0.40404546\n",
      "Episode:  67 Reward: 25.0 Epsilon 0.9319999999999999 mean q 0.3555287\n",
      "Episode:  68 Reward: 17.0 Epsilon 0.9309999999999999 mean q 0.39440104\n",
      "Episode:  69 Reward: 22.0 Epsilon 0.9299999999999999 mean q 0.4727403\n",
      "Episode:  70 Reward: 16.0 Epsilon 0.9289999999999999 mean q 0.6225269\n",
      "Episode:  71 Reward: 13.0 Epsilon 0.9279999999999999 mean q 0.76110935\n",
      "Episode:  72 Reward: 27.0 Epsilon 0.9269999999999999 mean q 0.60131985\n",
      "Episode:  73 Reward: 23.0 Epsilon 0.9259999999999999 mean q 0.58871615\n",
      "Episode:  74 Reward: 21.0 Epsilon 0.9249999999999999 mean q 0.7179103\n",
      "Episode:  75 Reward: 21.0 Epsilon 0.9239999999999999 mean q 0.6510054\n",
      "Episode:  76 Reward: 15.0 Epsilon 0.9229999999999999 mean q 1.1332037\n",
      "Episode:  77 Reward: 10.0 Epsilon 0.9219999999999999 mean q 0.9778946\n",
      "Episode:  78 Reward: 25.0 Epsilon 0.9209999999999999 mean q 0.81750214\n",
      "Episode:  79 Reward: 15.0 Epsilon 0.9199999999999999 mean q 0.83135295\n",
      "Episode:  80 Reward: 23.0 Epsilon 0.9189999999999999 mean q 0.73175895\n",
      "Episode:  81 Reward: 29.0 Epsilon 0.9179999999999999 mean q 0.9266872\n",
      "Episode:  82 Reward: 20.0 Epsilon 0.9169999999999999 mean q 1.1533792\n",
      "Episode:  83 Reward: 12.0 Epsilon 0.9159999999999999 mean q 1.4496726\n",
      "Episode:  84 Reward: 16.0 Epsilon 0.9149999999999999 mean q 1.2271671\n",
      "Episode:  85 Reward: 27.0 Epsilon 0.9139999999999999 mean q 1.3021231\n",
      "Episode:  86 Reward: 42.0 Epsilon 0.9129999999999999 mean q 1.0388463\n",
      "Episode:  87 Reward: 17.0 Epsilon 0.9119999999999999 mean q 1.7264942\n",
      "Episode:  88 Reward: 28.0 Epsilon 0.9109999999999999 mean q 1.3660845\n",
      "Episode:  89 Reward: 21.0 Epsilon 0.9099999999999999 mean q 1.7021525\n",
      "Episode:  90 Reward: 10.0 Epsilon 0.9089999999999999 mean q 2.0378394\n",
      "Episode:  91 Reward: 13.0 Epsilon 0.9079999999999999 mean q 1.9304948\n",
      "Episode:  92 Reward: 24.0 Epsilon 0.9069999999999999 mean q 1.3811312\n",
      "Episode:  93 Reward: 21.0 Epsilon 0.9059999999999999 mean q 1.4890541\n",
      "Episode:  94 Reward: 14.0 Epsilon 0.9049999999999999 mean q 1.869333\n",
      "Episode:  95 Reward: 10.0 Epsilon 0.9039999999999999 mean q 3.0902739\n",
      "Episode:  96 Reward: 12.0 Epsilon 0.9029999999999999 mean q 2.077936\n",
      "Episode:  97 Reward: 22.0 Epsilon 0.9019999999999999 mean q 2.1016428\n",
      "Episode:  98 Reward: 19.0 Epsilon 0.9009999999999999 mean q 2.6841621\n",
      "Episode:  99 Reward: 11.0 Epsilon 0.8999999999999999 mean q 3.0723226\n",
      "Episode:  100 Reward: 29.0 Epsilon 0.8989999999999999 mean q 1.9396162\n",
      "Episode:  101 Reward: 14.0 Epsilon 0.8979999999999999 mean q 3.2145193\n",
      "Episode:  102 Reward: 15.0 Epsilon 0.8969999999999999 mean q 2.695093\n",
      "Episode:  103 Reward: 14.0 Epsilon 0.8959999999999999 mean q 2.3890853\n",
      "Episode:  104 Reward: 16.0 Epsilon 0.8949999999999999 mean q 2.817244\n",
      "Episode:  105 Reward: 17.0 Epsilon 0.8939999999999999 mean q 3.1145325\n",
      "Episode:  106 Reward: 13.0 Epsilon 0.8929999999999999 mean q 3.521188\n",
      "Episode:  107 Reward: 16.0 Epsilon 0.8919999999999999 mean q 2.7578497\n",
      "Episode:  108 Reward: 22.0 Epsilon 0.8909999999999999 mean q 2.9019592\n",
      "Episode:  109 Reward: 22.0 Epsilon 0.8899999999999999 mean q 2.957335\n",
      "Episode:  110 Reward: 35.0 Epsilon 0.8889999999999999 mean q 2.7997785\n",
      "Episode:  111 Reward: 21.0 Epsilon 0.8879999999999999 mean q 3.147201\n",
      "Episode:  112 Reward: 12.0 Epsilon 0.8869999999999999 mean q 3.9806583\n",
      "Episode:  113 Reward: 17.0 Epsilon 0.8859999999999999 mean q 4.1357975\n",
      "Episode:  114 Reward: 32.0 Epsilon 0.8849999999999999 mean q 2.982838\n",
      "Episode:  115 Reward: 11.0 Epsilon 0.8839999999999999 mean q 5.4383454\n",
      "Episode:  116 Reward: 13.0 Epsilon 0.8829999999999999 mean q 4.060896\n",
      "Episode:  117 Reward: 14.0 Epsilon 0.8819999999999999 mean q 4.4513273\n",
      "Episode:  118 Reward: 42.0 Epsilon 0.8809999999999999 mean q 4.186666\n",
      "Episode:  119 Reward: 50.0 Epsilon 0.8799999999999999 mean q 3.208058\n",
      "Episode:  120 Reward: 14.0 Epsilon 0.8789999999999999 mean q 4.699444\n",
      "Episode:  121 Reward: 11.0 Epsilon 0.8779999999999999 mean q 6.801054\n",
      "Episode:  122 Reward: 19.0 Epsilon 0.8769999999999999 mean q 4.189161\n",
      "Episode:  123 Reward: 20.0 Epsilon 0.8759999999999999 mean q 4.1765633\n",
      "Episode:  124 Reward: 14.0 Epsilon 0.8749999999999999 mean q 5.0485454\n",
      "Episode:  125 Reward: 18.0 Epsilon 0.8739999999999999 mean q 4.6529946\n"
     ]
    },
    {
     "name": "stdout",
     "output_type": "stream",
     "text": [
      "Episode:  126 Reward: 15.0 Epsilon 0.8729999999999999 mean q 5.445925\n",
      "Episode:  127 Reward: 88.0 Epsilon 0.8719999999999999 mean q 5.8225646\n",
      "Episode:  128 Reward: 26.0 Epsilon 0.8709999999999999 mean q 4.8491383\n",
      "Episode:  129 Reward: 12.0 Epsilon 0.8699999999999999 mean q 6.376845\n",
      "Episode:  130 Reward: 23.0 Epsilon 0.8689999999999999 mean q 4.1100206\n",
      "Episode:  131 Reward: 22.0 Epsilon 0.8679999999999999 mean q 4.8115153\n",
      "Episode:  132 Reward: 21.0 Epsilon 0.8669999999999999 mean q 5.595075\n",
      "Episode:  133 Reward: 51.0 Epsilon 0.8659999999999999 mean q 5.9941335\n",
      "Episode:  134 Reward: 36.0 Epsilon 0.8649999999999999 mean q 4.629632\n",
      "Episode:  135 Reward: 71.0 Epsilon 0.8639999999999999 mean q 7.4686227\n",
      "Episode:  136 Reward: 11.0 Epsilon 0.8629999999999999 mean q 8.325101\n",
      "Episode:  137 Reward: 40.0 Epsilon 0.8619999999999999 mean q 7.5758467\n",
      "Episode:  138 Reward: 26.0 Epsilon 0.8609999999999999 mean q 7.4883847\n",
      "Episode:  139 Reward: 10.0 Epsilon 0.8599999999999999 mean q 8.73355\n",
      "Episode:  140 Reward: 19.0 Epsilon 0.8589999999999999 mean q 7.2759767\n",
      "Episode:  141 Reward: 19.0 Epsilon 0.8579999999999999 mean q 5.9593925\n",
      "Episode:  142 Reward: 14.0 Epsilon 0.8569999999999999 mean q 7.5666833\n",
      "Episode:  143 Reward: 11.0 Epsilon 0.8559999999999999 mean q 10.002308\n",
      "Episode:  144 Reward: 20.0 Epsilon 0.8549999999999999 mean q 7.944598\n",
      "Episode:  145 Reward: 12.0 Epsilon 0.8539999999999999 mean q 8.986123\n",
      "Episode:  146 Reward: 17.0 Epsilon 0.8529999999999999 mean q 7.129935\n",
      "Episode:  147 Reward: 13.0 Epsilon 0.8519999999999999 mean q 7.4833755\n",
      "Episode:  148 Reward: 19.0 Epsilon 0.8509999999999999 mean q 8.48195\n",
      "Episode:  149 Reward: 44.0 Epsilon 0.8499999999999999 mean q 8.126304\n",
      "Episode:  150 Reward: 18.0 Epsilon 0.8489999999999999 mean q 6.982165\n",
      "Episode:  151 Reward: 26.0 Epsilon 0.8479999999999999 mean q 7.156425\n",
      "Episode:  152 Reward: 54.0 Epsilon 0.8469999999999999 mean q 8.90983\n",
      "Episode:  153 Reward: 62.0 Epsilon 0.8459999999999999 mean q 9.509547\n",
      "Episode:  154 Reward: 9.0 Epsilon 0.8449999999999999 mean q 10.419746\n",
      "Episode:  155 Reward: 23.0 Epsilon 0.8439999999999999 mean q 8.853203\n",
      "Episode:  156 Reward: 12.0 Epsilon 0.8429999999999999 mean q 10.286377\n",
      "Episode:  157 Reward: 11.0 Epsilon 0.8419999999999999 mean q 10.843548\n",
      "Episode:  158 Reward: 22.0 Epsilon 0.8409999999999999 mean q 12.53651\n",
      "Episode:  159 Reward: 51.0 Epsilon 0.8399999999999999 mean q 8.05625\n",
      "Episode:  160 Reward: 26.0 Epsilon 0.8389999999999999 mean q 8.483972\n",
      "Episode:  161 Reward: 30.0 Epsilon 0.8379999999999999 mean q 9.945952\n",
      "Episode:  162 Reward: 10.0 Epsilon 0.8369999999999999 mean q 11.982806\n",
      "Episode:  163 Reward: 14.0 Epsilon 0.8359999999999999 mean q 11.190646\n",
      "Episode:  164 Reward: 18.0 Epsilon 0.8349999999999999 mean q 10.954243\n",
      "Episode:  165 Reward: 22.0 Epsilon 0.8339999999999999 mean q 9.864759\n",
      "Episode:  166 Reward: 29.0 Epsilon 0.8329999999999999 mean q 10.144198\n",
      "Episode:  167 Reward: 15.0 Epsilon 0.8319999999999999 mean q 12.897831\n",
      "Episode:  168 Reward: 15.0 Epsilon 0.8309999999999998 mean q 11.319248\n",
      "Episode:  169 Reward: 19.0 Epsilon 0.8299999999999998 mean q 9.584457\n",
      "Episode:  170 Reward: 14.0 Epsilon 0.8289999999999998 mean q 11.047769\n",
      "Episode:  171 Reward: 9.0 Epsilon 0.8279999999999998 mean q 14.284821\n",
      "Episode:  172 Reward: 17.0 Epsilon 0.8269999999999998 mean q 9.96731\n",
      "Episode:  173 Reward: 13.0 Epsilon 0.8259999999999998 mean q 12.44233\n",
      "Episode:  174 Reward: 14.0 Epsilon 0.8249999999999998 mean q 10.768964\n",
      "Episode:  175 Reward: 30.0 Epsilon 0.8239999999999998 mean q 11.314848\n",
      "Episode:  176 Reward: 10.0 Epsilon 0.8229999999999998 mean q 14.115133\n",
      "Episode:  177 Reward: 18.0 Epsilon 0.8219999999999998 mean q 11.017906\n",
      "Episode:  178 Reward: 20.0 Epsilon 0.8209999999999998 mean q 10.465604\n",
      "Episode:  179 Reward: 12.0 Epsilon 0.8199999999999998 mean q 12.079677\n",
      "Episode:  180 Reward: 34.0 Epsilon 0.8189999999999998 mean q 10.761581\n",
      "Episode:  181 Reward: 19.0 Epsilon 0.8179999999999998 mean q 11.544655\n",
      "Episode:  182 Reward: 45.0 Epsilon 0.8169999999999998 mean q 11.865935\n",
      "Episode:  183 Reward: 12.0 Epsilon 0.8159999999999998 mean q 13.438502\n",
      "Episode:  184 Reward: 12.0 Epsilon 0.8149999999999998 mean q 13.027898\n",
      "Episode:  185 Reward: 13.0 Epsilon 0.8139999999999998 mean q 13.745708\n",
      "Episode:  186 Reward: 27.0 Epsilon 0.8129999999999998 mean q 10.919043\n",
      "Episode:  187 Reward: 14.0 Epsilon 0.8119999999999998 mean q 11.7795515\n",
      "Episode:  188 Reward: 11.0 Epsilon 0.8109999999999998 mean q 13.439484\n",
      "Episode:  189 Reward: 20.0 Epsilon 0.8099999999999998 mean q 12.338957\n",
      "Episode:  190 Reward: 20.0 Epsilon 0.8089999999999998 mean q 10.740772\n",
      "Episode:  191 Reward: 11.0 Epsilon 0.8079999999999998 mean q 11.164494\n",
      "Episode:  192 Reward: 14.0 Epsilon 0.8069999999999998 mean q 13.2015295\n",
      "Episode:  193 Reward: 13.0 Epsilon 0.8059999999999998 mean q 13.774938\n",
      "Episode:  194 Reward: 9.0 Epsilon 0.8049999999999998 mean q 15.139328\n",
      "Episode:  195 Reward: 18.0 Epsilon 0.8039999999999998 mean q 10.819177\n",
      "Episode:  196 Reward: 16.0 Epsilon 0.8029999999999998 mean q 11.957359\n",
      "Episode:  197 Reward: 24.0 Epsilon 0.8019999999999998 mean q 11.802867\n",
      "Episode:  198 Reward: 12.0 Epsilon 0.8009999999999998 mean q 12.063443\n",
      "Episode:  199 Reward: 15.0 Epsilon 0.7999999999999998 mean q 12.955461\n",
      "Episode:  200 Reward: 20.0 Epsilon 0.7989999999999998 mean q 11.647699\n",
      "Episode:  201 Reward: 33.0 Epsilon 0.7979999999999998 mean q 11.226538\n",
      "Episode:  202 Reward: 23.0 Epsilon 0.7969999999999998 mean q 12.025895\n",
      "Episode:  203 Reward: 13.0 Epsilon 0.7959999999999998 mean q 14.163193\n",
      "Episode:  204 Reward: 12.0 Epsilon 0.7949999999999998 mean q 13.335101\n",
      "Episode:  205 Reward: 15.0 Epsilon 0.7939999999999998 mean q 12.202518\n",
      "Episode:  206 Reward: 15.0 Epsilon 0.7929999999999998 mean q 12.222705\n",
      "Episode:  207 Reward: 14.0 Epsilon 0.7919999999999998 mean q 12.0577345\n",
      "Episode:  208 Reward: 12.0 Epsilon 0.7909999999999998 mean q 12.05902\n",
      "Episode:  209 Reward: 12.0 Epsilon 0.7899999999999998 mean q 11.589387\n",
      "Episode:  210 Reward: 9.0 Epsilon 0.7889999999999998 mean q 15.326138\n",
      "Episode:  211 Reward: 11.0 Epsilon 0.7879999999999998 mean q 14.708159\n",
      "Episode:  212 Reward: 24.0 Epsilon 0.7869999999999998 mean q 12.075069\n",
      "Episode:  213 Reward: 28.0 Epsilon 0.7859999999999998 mean q 12.36329\n",
      "Episode:  214 Reward: 11.0 Epsilon 0.7849999999999998 mean q 14.519821\n",
      "Episode:  215 Reward: 14.0 Epsilon 0.7839999999999998 mean q 13.075168\n",
      "Episode:  216 Reward: 29.0 Epsilon 0.7829999999999998 mean q 11.885131\n",
      "Episode:  217 Reward: 44.0 Epsilon 0.7819999999999998 mean q 12.273251\n",
      "Episode:  218 Reward: 13.0 Epsilon 0.7809999999999998 mean q 14.451206\n",
      "Episode:  219 Reward: 9.0 Epsilon 0.7799999999999998 mean q 14.547304\n",
      "Episode:  220 Reward: 15.0 Epsilon 0.7789999999999998 mean q 11.787171\n",
      "Episode:  221 Reward: 16.0 Epsilon 0.7779999999999998 mean q 13.467384\n",
      "Episode:  222 Reward: 12.0 Epsilon 0.7769999999999998 mean q 13.425195\n",
      "Episode:  223 Reward: 12.0 Epsilon 0.7759999999999998 mean q 13.819501\n",
      "Episode:  224 Reward: 19.0 Epsilon 0.7749999999999998 mean q 13.349655\n",
      "Episode:  225 Reward: 9.0 Epsilon 0.7739999999999998 mean q 12.689526\n",
      "Episode:  226 Reward: 10.0 Epsilon 0.7729999999999998 mean q 12.953328\n",
      "Episode:  227 Reward: 16.0 Epsilon 0.7719999999999998 mean q 13.302881\n",
      "Episode:  228 Reward: 14.0 Epsilon 0.7709999999999998 mean q 12.927739\n",
      "Episode:  229 Reward: 11.0 Epsilon 0.7699999999999998 mean q 14.315258\n",
      "Episode:  230 Reward: 27.0 Epsilon 0.7689999999999998 mean q 12.318956\n",
      "Episode:  231 Reward: 11.0 Epsilon 0.7679999999999998 mean q 13.49501\n",
      "Episode:  232 Reward: 12.0 Epsilon 0.7669999999999998 mean q 12.651233\n",
      "Episode:  233 Reward: 26.0 Epsilon 0.7659999999999998 mean q 13.150285\n",
      "Episode:  234 Reward: 11.0 Epsilon 0.7649999999999998 mean q 14.199594\n",
      "Episode:  235 Reward: 16.0 Epsilon 0.7639999999999998 mean q 13.476355\n",
      "Episode:  236 Reward: 22.0 Epsilon 0.7629999999999998 mean q 12.479077\n",
      "Episode:  237 Reward: 15.0 Epsilon 0.7619999999999998 mean q 12.651237\n",
      "Episode:  238 Reward: 12.0 Epsilon 0.7609999999999998 mean q 12.78741\n",
      "Episode:  239 Reward: 14.0 Epsilon 0.7599999999999998 mean q 13.155907\n",
      "Episode:  240 Reward: 14.0 Epsilon 0.7589999999999998 mean q 12.670281\n",
      "Episode:  241 Reward: 16.0 Epsilon 0.7579999999999998 mean q 11.809763\n"
     ]
    },
    {
     "name": "stdout",
     "output_type": "stream",
     "text": [
      "Episode:  242 Reward: 22.0 Epsilon 0.7569999999999998 mean q 12.191824\n",
      "Episode:  243 Reward: 13.0 Epsilon 0.7559999999999998 mean q 13.392626\n",
      "Episode:  244 Reward: 17.0 Epsilon 0.7549999999999998 mean q 12.335097\n",
      "Episode:  245 Reward: 13.0 Epsilon 0.7539999999999998 mean q 13.757003\n",
      "Episode:  246 Reward: 14.0 Epsilon 0.7529999999999998 mean q 13.288149\n",
      "Episode:  247 Reward: 13.0 Epsilon 0.7519999999999998 mean q 13.647587\n",
      "Episode:  248 Reward: 11.0 Epsilon 0.7509999999999998 mean q 14.226457\n",
      "Episode:  249 Reward: 13.0 Epsilon 0.7499999999999998 mean q 12.747277\n",
      "Episode:  250 Reward: 10.0 Epsilon 0.7489999999999998 mean q 13.169836\n",
      "Episode:  251 Reward: 18.0 Epsilon 0.7479999999999998 mean q 12.357586\n",
      "Episode:  252 Reward: 18.0 Epsilon 0.7469999999999998 mean q 12.76601\n",
      "Episode:  253 Reward: 18.0 Epsilon 0.7459999999999998 mean q 12.371426\n",
      "Episode:  254 Reward: 27.0 Epsilon 0.7449999999999998 mean q 11.445705\n",
      "Episode:  255 Reward: 19.0 Epsilon 0.7439999999999998 mean q 12.362507\n",
      "Episode:  256 Reward: 22.0 Epsilon 0.7429999999999998 mean q 11.886703\n",
      "Episode:  257 Reward: 14.0 Epsilon 0.7419999999999998 mean q 12.829551\n",
      "Episode:  258 Reward: 16.0 Epsilon 0.7409999999999998 mean q 12.494912\n",
      "Episode:  259 Reward: 30.0 Epsilon 0.7399999999999998 mean q 11.807337\n",
      "Episode:  260 Reward: 12.0 Epsilon 0.7389999999999998 mean q 13.119586\n",
      "Episode:  261 Reward: 13.0 Epsilon 0.7379999999999998 mean q 12.890941\n",
      "Episode:  262 Reward: 17.0 Epsilon 0.7369999999999998 mean q 11.894298\n",
      "Episode:  263 Reward: 10.0 Epsilon 0.7359999999999998 mean q 13.004407\n",
      "Episode:  264 Reward: 10.0 Epsilon 0.7349999999999998 mean q 12.80837\n",
      "Episode:  265 Reward: 16.0 Epsilon 0.7339999999999998 mean q 11.87038\n",
      "Episode:  266 Reward: 10.0 Epsilon 0.7329999999999998 mean q 13.033635\n",
      "Episode:  267 Reward: 11.0 Epsilon 0.7319999999999998 mean q 13.704011\n",
      "Episode:  268 Reward: 14.0 Epsilon 0.7309999999999998 mean q 12.450788\n",
      "Episode:  269 Reward: 19.0 Epsilon 0.7299999999999998 mean q 11.802163\n",
      "Episode:  270 Reward: 20.0 Epsilon 0.7289999999999998 mean q 12.0194435\n",
      "Episode:  271 Reward: 10.0 Epsilon 0.7279999999999998 mean q 11.772404\n",
      "Episode:  272 Reward: 17.0 Epsilon 0.7269999999999998 mean q 12.404183\n",
      "Episode:  273 Reward: 10.0 Epsilon 0.7259999999999998 mean q 11.961496\n",
      "Episode:  274 Reward: 15.0 Epsilon 0.7249999999999998 mean q 12.450739\n",
      "Episode:  275 Reward: 14.0 Epsilon 0.7239999999999998 mean q 12.467418\n",
      "Episode:  276 Reward: 10.0 Epsilon 0.7229999999999998 mean q 14.237836\n",
      "Episode:  277 Reward: 11.0 Epsilon 0.7219999999999998 mean q 13.905895\n",
      "Episode:  278 Reward: 10.0 Epsilon 0.7209999999999998 mean q 11.851833\n",
      "Episode:  279 Reward: 15.0 Epsilon 0.7199999999999998 mean q 12.666549\n",
      "Episode:  280 Reward: 9.0 Epsilon 0.7189999999999998 mean q 13.698091\n",
      "Episode:  281 Reward: 12.0 Epsilon 0.7179999999999997 mean q 11.928024\n",
      "Episode:  282 Reward: 10.0 Epsilon 0.7169999999999997 mean q 14.357251\n",
      "Episode:  283 Reward: 9.0 Epsilon 0.7159999999999997 mean q 13.782642\n",
      "Episode:  284 Reward: 17.0 Epsilon 0.7149999999999997 mean q 12.928953\n",
      "Episode:  285 Reward: 12.0 Epsilon 0.7139999999999997 mean q 12.888959\n",
      "Episode:  286 Reward: 12.0 Epsilon 0.7129999999999997 mean q 12.376289\n",
      "Episode:  287 Reward: 10.0 Epsilon 0.7119999999999997 mean q 13.39109\n",
      "Episode:  288 Reward: 13.0 Epsilon 0.7109999999999997 mean q 12.635758\n",
      "Episode:  289 Reward: 14.0 Epsilon 0.7099999999999997 mean q 13.299861\n",
      "Episode:  290 Reward: 12.0 Epsilon 0.7089999999999997 mean q 13.418809\n",
      "Episode:  291 Reward: 11.0 Epsilon 0.7079999999999997 mean q 12.183277\n",
      "Episode:  292 Reward: 13.0 Epsilon 0.7069999999999997 mean q 11.593856\n",
      "Episode:  293 Reward: 25.0 Epsilon 0.7059999999999997 mean q 12.028251\n",
      "Episode:  294 Reward: 13.0 Epsilon 0.7049999999999997 mean q 11.096355\n",
      "Episode:  295 Reward: 9.0 Epsilon 0.7039999999999997 mean q 13.964485\n",
      "Episode:  296 Reward: 21.0 Epsilon 0.7029999999999997 mean q 12.063832\n",
      "Episode:  297 Reward: 16.0 Epsilon 0.7019999999999997 mean q 12.8132\n",
      "Episode:  298 Reward: 27.0 Epsilon 0.7009999999999997 mean q 12.014305\n",
      "Episode:  299 Reward: 10.0 Epsilon 0.6999999999999997 mean q 13.468158\n",
      "Episode:  300 Reward: 19.0 Epsilon 0.6989999999999997 mean q 12.159944\n",
      "Episode:  301 Reward: 15.0 Epsilon 0.6979999999999997 mean q 11.459451\n",
      "Episode:  302 Reward: 18.0 Epsilon 0.6969999999999997 mean q 11.323648\n",
      "Episode:  303 Reward: 23.0 Epsilon 0.6959999999999997 mean q 12.317696\n",
      "Episode:  304 Reward: 15.0 Epsilon 0.6949999999999997 mean q 13.581117\n",
      "Episode:  305 Reward: 12.0 Epsilon 0.6939999999999997 mean q 13.190822\n",
      "Episode:  306 Reward: 10.0 Epsilon 0.6929999999999997 mean q 13.382347\n",
      "Episode:  307 Reward: 10.0 Epsilon 0.6919999999999997 mean q 13.09518\n",
      "Episode:  308 Reward: 16.0 Epsilon 0.6909999999999997 mean q 12.875354\n",
      "Episode:  309 Reward: 41.0 Epsilon 0.6899999999999997 mean q 11.174373\n",
      "Episode:  310 Reward: 18.0 Epsilon 0.6889999999999997 mean q 12.64555\n",
      "Episode:  311 Reward: 13.0 Epsilon 0.6879999999999997 mean q 12.770418\n",
      "Episode:  312 Reward: 16.0 Epsilon 0.6869999999999997 mean q 13.045212\n",
      "Episode:  313 Reward: 11.0 Epsilon 0.6859999999999997 mean q 10.722541\n",
      "Episode:  314 Reward: 18.0 Epsilon 0.6849999999999997 mean q 10.786045\n",
      "Episode:  315 Reward: 26.0 Epsilon 0.6839999999999997 mean q 12.218975\n",
      "Episode:  316 Reward: 12.0 Epsilon 0.6829999999999997 mean q 13.188951\n",
      "Episode:  317 Reward: 10.0 Epsilon 0.6819999999999997 mean q 13.758665\n",
      "Episode:  318 Reward: 10.0 Epsilon 0.6809999999999997 mean q 14.402675\n",
      "Episode:  319 Reward: 30.0 Epsilon 0.6799999999999997 mean q 12.216311\n",
      "Episode:  320 Reward: 22.0 Epsilon 0.6789999999999997 mean q 12.584503\n",
      "Episode:  321 Reward: 28.0 Epsilon 0.6779999999999997 mean q 12.718774\n",
      "Episode:  322 Reward: 21.0 Epsilon 0.6769999999999997 mean q 12.791917\n",
      "Episode:  323 Reward: 15.0 Epsilon 0.6759999999999997 mean q 13.248306\n",
      "Episode:  324 Reward: 25.0 Epsilon 0.6749999999999997 mean q 12.883644\n",
      "Episode:  325 Reward: 11.0 Epsilon 0.6739999999999997 mean q 14.2753\n",
      "Episode:  326 Reward: 9.0 Epsilon 0.6729999999999997 mean q 14.345476\n",
      "Episode:  327 Reward: 48.0 Epsilon 0.6719999999999997 mean q 12.235387\n",
      "Episode:  328 Reward: 14.0 Epsilon 0.6709999999999997 mean q 13.47671\n",
      "Episode:  329 Reward: 13.0 Epsilon 0.6699999999999997 mean q 13.549856\n",
      "Episode:  330 Reward: 12.0 Epsilon 0.6689999999999997 mean q 13.518776\n",
      "Episode:  331 Reward: 16.0 Epsilon 0.6679999999999997 mean q 13.09445\n",
      "Episode:  332 Reward: 13.0 Epsilon 0.6669999999999997 mean q 14.082783\n",
      "Episode:  333 Reward: 11.0 Epsilon 0.6659999999999997 mean q 14.25685\n",
      "Episode:  334 Reward: 9.0 Epsilon 0.6649999999999997 mean q 14.867382\n",
      "Episode:  335 Reward: 13.0 Epsilon 0.6639999999999997 mean q 13.951638\n",
      "Episode:  336 Reward: 28.0 Epsilon 0.6629999999999997 mean q 12.722358\n",
      "Episode:  337 Reward: 13.0 Epsilon 0.6619999999999997 mean q 13.38939\n",
      "Episode:  338 Reward: 8.0 Epsilon 0.6609999999999997 mean q 14.351595\n",
      "Episode:  339 Reward: 15.0 Epsilon 0.6599999999999997 mean q 13.08191\n",
      "Episode:  340 Reward: 14.0 Epsilon 0.6589999999999997 mean q 14.136343\n",
      "Episode:  341 Reward: 13.0 Epsilon 0.6579999999999997 mean q 13.387438\n",
      "Episode:  342 Reward: 10.0 Epsilon 0.6569999999999997 mean q 14.543657\n",
      "Episode:  343 Reward: 9.0 Epsilon 0.6559999999999997 mean q 14.091167\n",
      "Episode:  344 Reward: 23.0 Epsilon 0.6549999999999997 mean q 12.926382\n",
      "Episode:  345 Reward: 11.0 Epsilon 0.6539999999999997 mean q 14.057372\n",
      "Episode:  346 Reward: 9.0 Epsilon 0.6529999999999997 mean q 14.581521\n",
      "Episode:  347 Reward: 11.0 Epsilon 0.6519999999999997 mean q 13.832968\n",
      "Episode:  348 Reward: 12.0 Epsilon 0.6509999999999997 mean q 13.777471\n",
      "Episode:  349 Reward: 10.0 Epsilon 0.6499999999999997 mean q 14.166387\n",
      "Episode:  350 Reward: 30.0 Epsilon 0.6489999999999997 mean q 12.792232\n",
      "Episode:  351 Reward: 16.0 Epsilon 0.6479999999999997 mean q 13.443195\n",
      "Episode:  352 Reward: 16.0 Epsilon 0.6469999999999997 mean q 13.497901\n",
      "Episode:  353 Reward: 11.0 Epsilon 0.6459999999999997 mean q 14.275143\n",
      "Episode:  354 Reward: 12.0 Epsilon 0.6449999999999997 mean q 13.728864\n",
      "Episode:  355 Reward: 14.0 Epsilon 0.6439999999999997 mean q 13.602402\n",
      "Episode:  356 Reward: 14.0 Epsilon 0.6429999999999997 mean q 13.319939\n",
      "Episode:  357 Reward: 12.0 Epsilon 0.6419999999999997 mean q 13.542816\n",
      "Episode:  358 Reward: 12.0 Epsilon 0.6409999999999997 mean q 14.016003\n"
     ]
    },
    {
     "name": "stdout",
     "output_type": "stream",
     "text": [
      "Episode:  359 Reward: 13.0 Epsilon 0.6399999999999997 mean q 13.596513\n",
      "Episode:  360 Reward: 21.0 Epsilon 0.6389999999999997 mean q 12.929846\n",
      "Episode:  361 Reward: 10.0 Epsilon 0.6379999999999997 mean q 13.491694\n",
      "Episode:  362 Reward: 10.0 Epsilon 0.6369999999999997 mean q 13.692212\n",
      "Episode:  363 Reward: 13.0 Epsilon 0.6359999999999997 mean q 13.723347\n",
      "Episode:  364 Reward: 10.0 Epsilon 0.6349999999999997 mean q 13.607137\n",
      "Episode:  365 Reward: 16.0 Epsilon 0.6339999999999997 mean q 12.9533615\n",
      "Episode:  366 Reward: 12.0 Epsilon 0.6329999999999997 mean q 13.216199\n",
      "Episode:  367 Reward: 14.0 Epsilon 0.6319999999999997 mean q 13.213847\n",
      "Episode:  368 Reward: 16.0 Epsilon 0.6309999999999997 mean q 13.000742\n",
      "Episode:  369 Reward: 14.0 Epsilon 0.6299999999999997 mean q 13.314819\n",
      "Episode:  370 Reward: 12.0 Epsilon 0.6289999999999997 mean q 13.1608305\n",
      "Episode:  371 Reward: 14.0 Epsilon 0.6279999999999997 mean q 13.661551\n",
      "Episode:  372 Reward: 20.0 Epsilon 0.6269999999999997 mean q 12.716978\n",
      "Episode:  373 Reward: 22.0 Epsilon 0.6259999999999997 mean q 12.557981\n",
      "Episode:  374 Reward: 9.0 Epsilon 0.6249999999999997 mean q 13.759379\n",
      "Episode:  375 Reward: 23.0 Epsilon 0.6239999999999997 mean q 12.736752\n",
      "Episode:  376 Reward: 17.0 Epsilon 0.6229999999999997 mean q 12.917022\n",
      "Episode:  377 Reward: 21.0 Epsilon 0.6219999999999997 mean q 12.577273\n",
      "Episode:  378 Reward: 9.0 Epsilon 0.6209999999999997 mean q 13.633976\n",
      "Episode:  379 Reward: 12.0 Epsilon 0.6199999999999997 mean q 13.141475\n",
      "Episode:  380 Reward: 13.0 Epsilon 0.6189999999999997 mean q 12.986342\n",
      "Episode:  381 Reward: 28.0 Epsilon 0.6179999999999997 mean q 12.574064\n",
      "Episode:  382 Reward: 12.0 Epsilon 0.6169999999999997 mean q 12.863759\n",
      "Episode:  383 Reward: 9.0 Epsilon 0.6159999999999997 mean q 13.293381\n",
      "Episode:  384 Reward: 18.0 Epsilon 0.6149999999999997 mean q 12.419232\n",
      "Episode:  385 Reward: 29.0 Epsilon 0.6139999999999997 mean q 12.249213\n",
      "Episode:  386 Reward: 11.0 Epsilon 0.6129999999999997 mean q 13.0288725\n",
      "Episode:  387 Reward: 11.0 Epsilon 0.6119999999999997 mean q 12.750461\n",
      "Episode:  388 Reward: 10.0 Epsilon 0.6109999999999997 mean q 12.876303\n",
      "Episode:  389 Reward: 30.0 Epsilon 0.6099999999999997 mean q 12.26738\n",
      "Episode:  390 Reward: 30.0 Epsilon 0.6089999999999997 mean q 12.210112\n",
      "Episode:  391 Reward: 15.0 Epsilon 0.6079999999999997 mean q 12.403925\n",
      "Episode:  392 Reward: 11.0 Epsilon 0.6069999999999997 mean q 12.815241\n",
      "Episode:  393 Reward: 14.0 Epsilon 0.6059999999999997 mean q 12.36791\n",
      "Episode:  394 Reward: 28.0 Epsilon 0.6049999999999996 mean q 11.931879\n",
      "Episode:  395 Reward: 14.0 Epsilon 0.6039999999999996 mean q 12.486491\n",
      "Episode:  396 Reward: 13.0 Epsilon 0.6029999999999996 mean q 12.373694\n",
      "Episode:  397 Reward: 10.0 Epsilon 0.6019999999999996 mean q 12.748043\n",
      "Episode:  398 Reward: 11.0 Epsilon 0.6009999999999996 mean q 12.609165\n",
      "Episode:  399 Reward: 14.0 Epsilon 0.5999999999999996 mean q 12.254544\n",
      "Episode:  400 Reward: 12.0 Epsilon 0.5989999999999996 mean q 12.2280855\n",
      "Episode:  401 Reward: 10.0 Epsilon 0.5979999999999996 mean q 12.696409\n",
      "Episode:  402 Reward: 39.0 Epsilon 0.5969999999999996 mean q 11.611566\n",
      "Episode:  403 Reward: 26.0 Epsilon 0.5959999999999996 mean q 11.630378\n",
      "Episode:  404 Reward: 26.0 Epsilon 0.5949999999999996 mean q 11.618696\n",
      "Episode:  405 Reward: 12.0 Epsilon 0.5939999999999996 mean q 10.32294\n",
      "Episode:  406 Reward: 22.0 Epsilon 0.5929999999999996 mean q 11.420142\n",
      "Episode:  407 Reward: 10.0 Epsilon 0.5919999999999996 mean q 11.923813\n",
      "Episode:  408 Reward: 19.0 Epsilon 0.5909999999999996 mean q 11.628116\n",
      "Episode:  409 Reward: 13.0 Epsilon 0.5899999999999996 mean q 11.8937025\n",
      "Episode:  410 Reward: 14.0 Epsilon 0.5889999999999996 mean q 11.773969\n",
      "Episode:  411 Reward: 21.0 Epsilon 0.5879999999999996 mean q 11.464267\n",
      "Episode:  412 Reward: 21.0 Epsilon 0.5869999999999996 mean q 11.385063\n",
      "Episode:  413 Reward: 11.0 Epsilon 0.5859999999999996 mean q 11.583501\n",
      "Episode:  414 Reward: 11.0 Epsilon 0.5849999999999996 mean q 11.573799\n",
      "Episode:  415 Reward: 10.0 Epsilon 0.5839999999999996 mean q 11.515751\n",
      "Episode:  416 Reward: 17.0 Epsilon 0.5829999999999996 mean q 11.382128\n",
      "Episode:  417 Reward: 9.0 Epsilon 0.5819999999999996 mean q 11.550701\n",
      "Episode:  418 Reward: 18.0 Epsilon 0.5809999999999996 mean q 11.311799\n",
      "Episode:  419 Reward: 11.0 Epsilon 0.5799999999999996 mean q 11.293298\n",
      "Episode:  420 Reward: 14.0 Epsilon 0.5789999999999996 mean q 11.101748\n",
      "Episode:  421 Reward: 11.0 Epsilon 0.5779999999999996 mean q 11.169106\n",
      "Episode:  422 Reward: 15.0 Epsilon 0.5769999999999996 mean q 11.12921\n",
      "Episode:  423 Reward: 19.0 Epsilon 0.5759999999999996 mean q 10.341405\n",
      "Episode:  424 Reward: 22.0 Epsilon 0.5749999999999996 mean q 10.889478\n",
      "Episode:  425 Reward: 24.0 Epsilon 0.5739999999999996 mean q 10.689484\n",
      "Episode:  426 Reward: 17.0 Epsilon 0.5729999999999996 mean q 10.716656\n",
      "Episode:  427 Reward: 19.0 Epsilon 0.5719999999999996 mean q 10.698894\n",
      "Episode:  428 Reward: 12.0 Epsilon 0.5709999999999996 mean q 10.663842\n",
      "Episode:  429 Reward: 18.0 Epsilon 0.5699999999999996 mean q 10.565983\n",
      "Episode:  430 Reward: 13.0 Epsilon 0.5689999999999996 mean q 9.702506\n",
      "Episode:  431 Reward: 10.0 Epsilon 0.5679999999999996 mean q 9.567898\n",
      "Episode:  432 Reward: 9.0 Epsilon 0.5669999999999996 mean q 10.520703\n",
      "Episode:  433 Reward: 13.0 Epsilon 0.5659999999999996 mean q 10.631614\n",
      "Episode:  434 Reward: 12.0 Epsilon 0.5649999999999996 mean q 10.473009\n",
      "Episode:  435 Reward: 20.0 Epsilon 0.5639999999999996 mean q 10.444534\n",
      "Episode:  436 Reward: 9.0 Epsilon 0.5629999999999996 mean q 10.245291\n",
      "Episode:  437 Reward: 17.0 Epsilon 0.5619999999999996 mean q 10.21169\n",
      "Episode:  438 Reward: 12.0 Epsilon 0.5609999999999996 mean q 10.257156\n",
      "Episode:  439 Reward: 12.0 Epsilon 0.5599999999999996 mean q 10.171702\n",
      "Episode:  440 Reward: 13.0 Epsilon 0.5589999999999996 mean q 10.0661335\n",
      "Episode:  441 Reward: 12.0 Epsilon 0.5579999999999996 mean q 9.911954\n",
      "Episode:  442 Reward: 11.0 Epsilon 0.5569999999999996 mean q 9.865424\n",
      "Episode:  443 Reward: 13.0 Epsilon 0.5559999999999996 mean q 10.099206\n",
      "Episode:  444 Reward: 13.0 Epsilon 0.5549999999999996 mean q 10.0147295\n",
      "Episode:  445 Reward: 12.0 Epsilon 0.5539999999999996 mean q 9.965873\n",
      "Episode:  446 Reward: 10.0 Epsilon 0.5529999999999996 mean q 9.820012\n",
      "Episode:  447 Reward: 17.0 Epsilon 0.5519999999999996 mean q 9.986648\n",
      "Episode:  448 Reward: 24.0 Epsilon 0.5509999999999996 mean q 9.703156\n",
      "Episode:  449 Reward: 10.0 Epsilon 0.5499999999999996 mean q 9.631437\n",
      "Episode:  450 Reward: 18.0 Epsilon 0.5489999999999996 mean q 10.100361\n",
      "Episode:  451 Reward: 19.0 Epsilon 0.5479999999999996 mean q 10.222736\n",
      "Episode:  452 Reward: 12.0 Epsilon 0.5469999999999996 mean q 9.571953\n",
      "Episode:  453 Reward: 16.0 Epsilon 0.5459999999999996 mean q 9.75666\n",
      "Episode:  454 Reward: 12.0 Epsilon 0.5449999999999996 mean q 9.711618\n",
      "Episode:  455 Reward: 10.0 Epsilon 0.5439999999999996 mean q 9.583402\n",
      "Episode:  456 Reward: 11.0 Epsilon 0.5429999999999996 mean q 9.408783\n",
      "Episode:  457 Reward: 10.0 Epsilon 0.5419999999999996 mean q 9.501009\n",
      "Episode:  458 Reward: 17.0 Epsilon 0.5409999999999996 mean q 9.877933\n",
      "Episode:  459 Reward: 16.0 Epsilon 0.5399999999999996 mean q 9.483063\n",
      "Episode:  460 Reward: 12.0 Epsilon 0.5389999999999996 mean q 9.440678\n",
      "Episode:  461 Reward: 16.0 Epsilon 0.5379999999999996 mean q 9.4040165\n",
      "Episode:  462 Reward: 10.0 Epsilon 0.5369999999999996 mean q 9.019901\n",
      "Episode:  463 Reward: 10.0 Epsilon 0.5359999999999996 mean q 8.8227215\n",
      "Episode:  464 Reward: 24.0 Epsilon 0.5349999999999996 mean q 9.211414\n",
      "Episode:  465 Reward: 13.0 Epsilon 0.5339999999999996 mean q 8.9251\n",
      "Episode:  466 Reward: 9.0 Epsilon 0.5329999999999996 mean q 8.957666\n",
      "Episode:  467 Reward: 15.0 Epsilon 0.5319999999999996 mean q 9.1367235\n",
      "Episode:  468 Reward: 14.0 Epsilon 0.5309999999999996 mean q 8.862008\n",
      "Episode:  469 Reward: 11.0 Epsilon 0.5299999999999996 mean q 8.9252615\n",
      "Episode:  470 Reward: 10.0 Epsilon 0.5289999999999996 mean q 8.735873\n",
      "Episode:  471 Reward: 17.0 Epsilon 0.5279999999999996 mean q 8.9850445\n",
      "Episode:  472 Reward: 11.0 Epsilon 0.5269999999999996 mean q 8.521421\n",
      "Episode:  473 Reward: 10.0 Epsilon 0.5259999999999996 mean q 8.199852\n",
      "Episode:  474 Reward: 10.0 Epsilon 0.5249999999999996 mean q 8.438299\n",
      "Episode:  475 Reward: 16.0 Epsilon 0.5239999999999996 mean q 8.510147\n",
      "Episode:  476 Reward: 9.0 Epsilon 0.5229999999999996 mean q 8.287039\n"
     ]
    },
    {
     "name": "stdout",
     "output_type": "stream",
     "text": [
      "Episode:  477 Reward: 12.0 Epsilon 0.5219999999999996 mean q 8.308017\n",
      "Episode:  478 Reward: 11.0 Epsilon 0.5209999999999996 mean q 8.299008\n",
      "Episode:  479 Reward: 12.0 Epsilon 0.5199999999999996 mean q 8.580333\n",
      "Episode:  480 Reward: 19.0 Epsilon 0.5189999999999996 mean q 8.769242\n",
      "Episode:  481 Reward: 25.0 Epsilon 0.5179999999999996 mean q 9.080338\n",
      "Episode:  482 Reward: 24.0 Epsilon 0.5169999999999996 mean q 8.518497\n",
      "Episode:  483 Reward: 15.0 Epsilon 0.5159999999999996 mean q 8.884715\n",
      "Episode:  484 Reward: 61.0 Epsilon 0.5149999999999996 mean q 10.465733\n",
      "Episode:  485 Reward: 52.0 Epsilon 0.5139999999999996 mean q 9.478807\n",
      "Episode:  486 Reward: 16.0 Epsilon 0.5129999999999996 mean q 8.560543\n",
      "Episode:  487 Reward: 22.0 Epsilon 0.5119999999999996 mean q 8.837673\n",
      "Episode:  488 Reward: 14.0 Epsilon 0.5109999999999996 mean q 8.476259\n",
      "Episode:  489 Reward: 32.0 Epsilon 0.5099999999999996 mean q 8.956726\n",
      "Episode:  490 Reward: 12.0 Epsilon 0.5089999999999996 mean q 8.713232\n",
      "Episode:  491 Reward: 16.0 Epsilon 0.5079999999999996 mean q 8.654634\n",
      "Episode:  492 Reward: 11.0 Epsilon 0.5069999999999996 mean q 8.255225\n",
      "Episode:  493 Reward: 15.0 Epsilon 0.5059999999999996 mean q 8.878776\n",
      "Episode:  494 Reward: 17.0 Epsilon 0.5049999999999996 mean q 8.716798\n",
      "Episode:  495 Reward: 13.0 Epsilon 0.5039999999999996 mean q 8.499139\n",
      "Episode:  496 Reward: 33.0 Epsilon 0.5029999999999996 mean q 9.039784\n",
      "Episode:  497 Reward: 15.0 Epsilon 0.5019999999999996 mean q 8.148179\n",
      "Episode:  498 Reward: 38.0 Epsilon 0.5009999999999996 mean q 9.384077\n",
      "Episode:  499 Reward: 36.0 Epsilon 0.49999999999999956 mean q 9.2581415\n",
      "Episode:  500 Reward: 13.0 Epsilon 0.49899999999999956 mean q 8.6620245\n",
      "Episode:  501 Reward: 23.0 Epsilon 0.49799999999999955 mean q 9.456181\n",
      "Episode:  502 Reward: 25.0 Epsilon 0.49699999999999955 mean q 9.369856\n",
      "Episode:  503 Reward: 20.0 Epsilon 0.49599999999999955 mean q 9.366641\n",
      "Episode:  504 Reward: 16.0 Epsilon 0.49499999999999955 mean q 9.2946415\n",
      "Episode:  505 Reward: 11.0 Epsilon 0.49399999999999955 mean q 8.832697\n",
      "Episode:  506 Reward: 18.0 Epsilon 0.49299999999999955 mean q 9.278913\n",
      "Episode:  507 Reward: 42.0 Epsilon 0.49199999999999955 mean q 9.9484\n",
      "Episode:  508 Reward: 33.0 Epsilon 0.49099999999999955 mean q 9.617341\n",
      "Episode:  509 Reward: 13.0 Epsilon 0.48999999999999955 mean q 8.983674\n",
      "Episode:  510 Reward: 19.0 Epsilon 0.48899999999999955 mean q 9.593855\n",
      "Episode:  511 Reward: 20.0 Epsilon 0.48799999999999955 mean q 9.511447\n",
      "Episode:  512 Reward: 18.0 Epsilon 0.48699999999999954 mean q 9.648528\n",
      "Episode:  513 Reward: 16.0 Epsilon 0.48599999999999954 mean q 9.6177635\n",
      "Episode:  514 Reward: 24.0 Epsilon 0.48499999999999954 mean q 9.579541\n",
      "Episode:  515 Reward: 20.0 Epsilon 0.48399999999999954 mean q 9.473406\n",
      "Episode:  516 Reward: 21.0 Epsilon 0.48299999999999954 mean q 9.6877365\n",
      "Episode:  517 Reward: 40.0 Epsilon 0.48199999999999954 mean q 9.930957\n",
      "Episode:  518 Reward: 99.0 Epsilon 0.48099999999999954 mean q 9.9064865\n",
      "Episode:  519 Reward: 57.0 Epsilon 0.47999999999999954 mean q 10.156652\n",
      "Episode:  520 Reward: 72.0 Epsilon 0.47899999999999954 mean q 10.219436\n",
      "Episode:  521 Reward: 24.0 Epsilon 0.47799999999999954 mean q 10.164863\n",
      "Episode:  522 Reward: 82.0 Epsilon 0.47699999999999954 mean q 10.499786\n",
      "Episode:  523 Reward: 45.0 Epsilon 0.47599999999999953 mean q 10.746207\n",
      "Episode:  524 Reward: 32.0 Epsilon 0.47499999999999953 mean q 10.739351\n",
      "Episode:  525 Reward: 30.0 Epsilon 0.47399999999999953 mean q 10.28993\n",
      "Episode:  526 Reward: 57.0 Epsilon 0.47299999999999953 mean q 10.596894\n",
      "Episode:  527 Reward: 112.0 Epsilon 0.47199999999999953 mean q 10.968431\n",
      "Episode:  528 Reward: 41.0 Epsilon 0.47099999999999953 mean q 11.870542\n",
      "Episode:  529 Reward: 18.0 Epsilon 0.46999999999999953 mean q 9.907803\n",
      "Episode:  530 Reward: 49.0 Epsilon 0.46899999999999953 mean q 11.215715\n",
      "Episode:  531 Reward: 56.0 Epsilon 0.4679999999999995 mean q 11.022505\n",
      "Episode:  532 Reward: 63.0 Epsilon 0.4669999999999995 mean q 11.36129\n",
      "Episode:  533 Reward: 92.0 Epsilon 0.4659999999999995 mean q 12.686884\n",
      "Episode:  534 Reward: 39.0 Epsilon 0.4649999999999995 mean q 12.455213\n",
      "Episode:  535 Reward: 38.0 Epsilon 0.4639999999999995 mean q 11.643752\n",
      "Episode:  536 Reward: 28.0 Epsilon 0.4629999999999995 mean q 12.028033\n",
      "Episode:  537 Reward: 88.0 Epsilon 0.4619999999999995 mean q 12.616528\n",
      "Episode:  538 Reward: 104.0 Epsilon 0.4609999999999995 mean q 12.406147\n",
      "Episode:  539 Reward: 56.0 Epsilon 0.4599999999999995 mean q 12.484286\n",
      "Episode:  540 Reward: 62.0 Epsilon 0.4589999999999995 mean q 12.557376\n",
      "Episode:  541 Reward: 47.0 Epsilon 0.4579999999999995 mean q 12.950864\n",
      "Episode:  542 Reward: 32.0 Epsilon 0.4569999999999995 mean q 12.526548\n",
      "Episode:  543 Reward: 34.0 Epsilon 0.4559999999999995 mean q 12.416845\n",
      "Episode:  544 Reward: 43.0 Epsilon 0.4549999999999995 mean q 12.260362\n",
      "Episode:  545 Reward: 40.0 Epsilon 0.4539999999999995 mean q 13.051938\n",
      "Episode:  546 Reward: 35.0 Epsilon 0.4529999999999995 mean q 12.30426\n",
      "Episode:  547 Reward: 76.0 Epsilon 0.4519999999999995 mean q 13.748202\n",
      "Episode:  548 Reward: 40.0 Epsilon 0.4509999999999995 mean q 12.919912\n",
      "Episode:  549 Reward: 37.0 Epsilon 0.4499999999999995 mean q 12.892437\n",
      "Episode:  550 Reward: 75.0 Epsilon 0.4489999999999995 mean q 12.762147\n",
      "Episode:  551 Reward: 33.0 Epsilon 0.4479999999999995 mean q 12.4320755\n",
      "Episode:  552 Reward: 38.0 Epsilon 0.4469999999999995 mean q 14.450184\n",
      "Episode:  553 Reward: 52.0 Epsilon 0.4459999999999995 mean q 13.85588\n",
      "Episode:  554 Reward: 51.0 Epsilon 0.4449999999999995 mean q 13.226042\n",
      "Episode:  555 Reward: 48.0 Epsilon 0.4439999999999995 mean q 14.643402\n",
      "Episode:  556 Reward: 43.0 Epsilon 0.4429999999999995 mean q 14.440287\n",
      "Episode:  557 Reward: 42.0 Epsilon 0.4419999999999995 mean q 14.441337\n",
      "Episode:  558 Reward: 45.0 Epsilon 0.4409999999999995 mean q 13.509495\n",
      "Episode:  559 Reward: 125.0 Epsilon 0.4399999999999995 mean q 15.026865\n",
      "Episode:  560 Reward: 77.0 Epsilon 0.4389999999999995 mean q 14.1966715\n",
      "Episode:  561 Reward: 68.0 Epsilon 0.4379999999999995 mean q 13.619224\n",
      "Episode:  562 Reward: 57.0 Epsilon 0.4369999999999995 mean q 13.744943\n",
      "Episode:  563 Reward: 28.0 Epsilon 0.4359999999999995 mean q 13.705641\n",
      "Episode:  564 Reward: 43.0 Epsilon 0.4349999999999995 mean q 13.60473\n",
      "Episode:  565 Reward: 45.0 Epsilon 0.4339999999999995 mean q 13.688264\n",
      "Episode:  566 Reward: 82.0 Epsilon 0.4329999999999995 mean q 14.229786\n",
      "Episode:  567 Reward: 101.0 Epsilon 0.4319999999999995 mean q 14.283875\n",
      "Episode:  568 Reward: 90.0 Epsilon 0.4309999999999995 mean q 15.898864\n",
      "Episode:  569 Reward: 65.0 Epsilon 0.4299999999999995 mean q 14.444\n",
      "Episode:  570 Reward: 77.0 Epsilon 0.4289999999999995 mean q 16.175413\n",
      "Episode:  571 Reward: 56.0 Epsilon 0.4279999999999995 mean q 14.170493\n",
      "Episode:  572 Reward: 67.0 Epsilon 0.4269999999999995 mean q 13.95472\n",
      "Episode:  573 Reward: 56.0 Epsilon 0.4259999999999995 mean q 14.356356\n",
      "Episode:  574 Reward: 33.0 Epsilon 0.4249999999999995 mean q 13.971685\n",
      "Episode:  575 Reward: 57.0 Epsilon 0.4239999999999995 mean q 15.677776\n",
      "Episode:  576 Reward: 46.0 Epsilon 0.4229999999999995 mean q 13.843821\n",
      "Episode:  577 Reward: 46.0 Epsilon 0.4219999999999995 mean q 15.563659\n",
      "Episode:  578 Reward: 37.0 Epsilon 0.4209999999999995 mean q 13.928988\n",
      "Episode:  579 Reward: 48.0 Epsilon 0.4199999999999995 mean q 16.100683\n",
      "Episode:  580 Reward: 37.0 Epsilon 0.4189999999999995 mean q 15.847371\n",
      "Episode:  581 Reward: 51.0 Epsilon 0.4179999999999995 mean q 14.584862\n",
      "Episode:  582 Reward: 28.0 Epsilon 0.4169999999999995 mean q 13.857985\n",
      "Episode:  583 Reward: 99.0 Epsilon 0.4159999999999995 mean q 14.828071\n",
      "Episode:  584 Reward: 46.0 Epsilon 0.4149999999999995 mean q 16.031479\n",
      "Episode:  585 Reward: 48.0 Epsilon 0.4139999999999995 mean q 14.4187155\n",
      "Episode:  586 Reward: 42.0 Epsilon 0.4129999999999995 mean q 13.505651\n",
      "Episode:  587 Reward: 67.0 Epsilon 0.4119999999999995 mean q 15.038857\n",
      "Episode:  588 Reward: 26.0 Epsilon 0.4109999999999995 mean q 15.635088\n",
      "Episode:  589 Reward: 60.0 Epsilon 0.4099999999999995 mean q 16.714905\n",
      "Episode:  590 Reward: 42.0 Epsilon 0.4089999999999995 mean q 14.512102\n",
      "Episode:  591 Reward: 33.0 Epsilon 0.4079999999999995 mean q 14.728507\n",
      "Episode:  592 Reward: 92.0 Epsilon 0.4069999999999995 mean q 14.835591\n"
     ]
    },
    {
     "name": "stdout",
     "output_type": "stream",
     "text": [
      "Episode:  593 Reward: 72.0 Epsilon 0.4059999999999995 mean q 16.44477\n",
      "Episode:  594 Reward: 56.0 Epsilon 0.40499999999999947 mean q 14.891008\n",
      "Episode:  595 Reward: 102.0 Epsilon 0.40399999999999947 mean q 15.542446\n",
      "Episode:  596 Reward: 48.0 Epsilon 0.40299999999999947 mean q 14.852646\n",
      "Episode:  597 Reward: 43.0 Epsilon 0.40199999999999947 mean q 16.266077\n",
      "Episode:  598 Reward: 58.0 Epsilon 0.40099999999999947 mean q 16.829739\n",
      "Episode:  599 Reward: 29.0 Epsilon 0.39999999999999947 mean q 14.649786\n",
      "Episode:  600 Reward: 65.0 Epsilon 0.39899999999999947 mean q 16.095076\n",
      "Episode:  601 Reward: 91.0 Epsilon 0.39799999999999947 mean q 16.459574\n",
      "Episode:  602 Reward: 69.0 Epsilon 0.39699999999999946 mean q 15.027121\n",
      "Episode:  603 Reward: 31.0 Epsilon 0.39599999999999946 mean q 15.114995\n",
      "Episode:  604 Reward: 72.0 Epsilon 0.39499999999999946 mean q 15.04817\n",
      "Episode:  605 Reward: 31.0 Epsilon 0.39399999999999946 mean q 16.622631\n",
      "Episode:  606 Reward: 51.0 Epsilon 0.39299999999999946 mean q 15.245319\n",
      "Episode:  607 Reward: 101.0 Epsilon 0.39199999999999946 mean q 15.668956\n",
      "Episode:  608 Reward: 54.0 Epsilon 0.39099999999999946 mean q 16.337084\n",
      "Episode:  609 Reward: 48.0 Epsilon 0.38999999999999946 mean q 17.261032\n",
      "Episode:  610 Reward: 76.0 Epsilon 0.38899999999999946 mean q 17.189016\n",
      "Episode:  611 Reward: 66.0 Epsilon 0.38799999999999946 mean q 15.203065\n",
      "Episode:  612 Reward: 48.0 Epsilon 0.38699999999999946 mean q 15.117829\n",
      "Episode:  613 Reward: 33.0 Epsilon 0.38599999999999945 mean q 15.442522\n",
      "Episode:  614 Reward: 96.0 Epsilon 0.38499999999999945 mean q 17.313534\n",
      "Episode:  615 Reward: 44.0 Epsilon 0.38399999999999945 mean q 16.924036\n",
      "Episode:  616 Reward: 54.0 Epsilon 0.38299999999999945 mean q 16.790459\n",
      "Episode:  617 Reward: 43.0 Epsilon 0.38199999999999945 mean q 14.960301\n",
      "Episode:  618 Reward: 55.0 Epsilon 0.38099999999999945 mean q 14.834916\n",
      "Episode:  619 Reward: 83.0 Epsilon 0.37999999999999945 mean q 15.043793\n",
      "Episode:  620 Reward: 63.0 Epsilon 0.37899999999999945 mean q 15.544111\n",
      "Episode:  621 Reward: 86.0 Epsilon 0.37799999999999945 mean q 15.286842\n",
      "Episode:  622 Reward: 76.0 Epsilon 0.37699999999999945 mean q 14.947177\n",
      "Episode:  623 Reward: 69.0 Epsilon 0.37599999999999945 mean q 15.011541\n",
      "Episode:  624 Reward: 45.0 Epsilon 0.37499999999999944 mean q 16.46978\n",
      "Episode:  625 Reward: 74.0 Epsilon 0.37399999999999944 mean q 15.094535\n",
      "Episode:  626 Reward: 60.0 Epsilon 0.37299999999999944 mean q 15.419312\n",
      "Episode:  627 Reward: 39.0 Epsilon 0.37199999999999944 mean q 14.634126\n",
      "Episode:  628 Reward: 72.0 Epsilon 0.37099999999999944 mean q 14.497766\n",
      "Episode:  629 Reward: 101.0 Epsilon 0.36999999999999944 mean q 16.152042\n",
      "Episode:  630 Reward: 82.0 Epsilon 0.36899999999999944 mean q 15.496829\n",
      "Episode:  631 Reward: 52.0 Epsilon 0.36799999999999944 mean q 17.073704\n",
      "Episode:  632 Reward: 46.0 Epsilon 0.36699999999999944 mean q 15.029123\n",
      "Episode:  633 Reward: 61.0 Epsilon 0.36599999999999944 mean q 14.644236\n",
      "Episode:  634 Reward: 65.0 Epsilon 0.36499999999999944 mean q 17.534243\n",
      "Episode:  635 Reward: 61.0 Epsilon 0.36399999999999944 mean q 17.112278\n",
      "Episode:  636 Reward: 64.0 Epsilon 0.36299999999999943 mean q 15.671051\n",
      "Episode:  637 Reward: 85.0 Epsilon 0.36199999999999943 mean q 15.092266\n",
      "Episode:  638 Reward: 58.0 Epsilon 0.36099999999999943 mean q 14.825559\n",
      "Episode:  639 Reward: 125.0 Epsilon 0.35999999999999943 mean q 17.023884\n",
      "Episode:  640 Reward: 53.0 Epsilon 0.35899999999999943 mean q 17.889652\n",
      "Episode:  641 Reward: 76.0 Epsilon 0.35799999999999943 mean q 17.17962\n",
      "Episode:  642 Reward: 96.0 Epsilon 0.35699999999999943 mean q 17.298128\n",
      "Episode:  643 Reward: 48.0 Epsilon 0.35599999999999943 mean q 15.562054\n",
      "Episode:  644 Reward: 76.0 Epsilon 0.3549999999999994 mean q 15.396398\n",
      "Episode:  645 Reward: 63.0 Epsilon 0.3539999999999994 mean q 14.694394\n",
      "Episode:  646 Reward: 71.0 Epsilon 0.3529999999999994 mean q 14.92869\n",
      "Episode:  647 Reward: 104.0 Epsilon 0.3519999999999994 mean q 16.756063\n",
      "Episode:  648 Reward: 92.0 Epsilon 0.3509999999999994 mean q 15.438916\n",
      "Episode:  649 Reward: 74.0 Epsilon 0.3499999999999994 mean q 14.906151\n",
      "Episode:  650 Reward: 84.0 Epsilon 0.3489999999999994 mean q 17.213627\n",
      "Episode:  651 Reward: 56.0 Epsilon 0.3479999999999994 mean q 17.403162\n",
      "Episode:  652 Reward: 84.0 Epsilon 0.3469999999999994 mean q 17.02673\n",
      "Episode:  653 Reward: 54.0 Epsilon 0.3459999999999994 mean q 14.796635\n",
      "Episode:  654 Reward: 46.0 Epsilon 0.3449999999999994 mean q 15.066864\n",
      "Episode:  655 Reward: 165.0 Epsilon 0.3439999999999994 mean q 16.250307\n",
      "Episode:  656 Reward: 47.0 Epsilon 0.3429999999999994 mean q 17.176767\n",
      "Episode:  657 Reward: 122.0 Epsilon 0.3419999999999994 mean q 16.808193\n",
      "Episode:  658 Reward: 107.0 Epsilon 0.3409999999999994 mean q 16.79931\n",
      "Episode:  659 Reward: 75.0 Epsilon 0.3399999999999994 mean q 17.647985\n",
      "Episode:  660 Reward: 59.0 Epsilon 0.3389999999999994 mean q 14.985537\n",
      "Episode:  661 Reward: 73.0 Epsilon 0.3379999999999994 mean q 15.355782\n",
      "Episode:  662 Reward: 106.0 Epsilon 0.3369999999999994 mean q 16.441813\n",
      "Episode:  663 Reward: 114.0 Epsilon 0.3359999999999994 mean q 16.091146\n",
      "Episode:  664 Reward: 80.0 Epsilon 0.3349999999999994 mean q 15.330119\n",
      "Episode:  665 Reward: 70.0 Epsilon 0.3339999999999994 mean q 15.263907\n",
      "Episode:  666 Reward: 50.0 Epsilon 0.3329999999999994 mean q 14.727544\n",
      "Episode:  667 Reward: 114.0 Epsilon 0.3319999999999994 mean q 15.759506\n",
      "Episode:  668 Reward: 49.0 Epsilon 0.3309999999999994 mean q 17.299\n",
      "Episode:  669 Reward: 84.0 Epsilon 0.3299999999999994 mean q 17.010887\n",
      "Episode:  670 Reward: 33.0 Epsilon 0.3289999999999994 mean q 15.485122\n",
      "Episode:  671 Reward: 105.0 Epsilon 0.3279999999999994 mean q 15.772282\n",
      "Episode:  672 Reward: 83.0 Epsilon 0.3269999999999994 mean q 15.167332\n",
      "Episode:  673 Reward: 58.0 Epsilon 0.3259999999999994 mean q 17.41843\n",
      "Episode:  674 Reward: 67.0 Epsilon 0.3249999999999994 mean q 14.887961\n",
      "Episode:  675 Reward: 78.0 Epsilon 0.3239999999999994 mean q 17.101032\n",
      "Episode:  676 Reward: 47.0 Epsilon 0.3229999999999994 mean q 17.357927\n",
      "Episode:  677 Reward: 197.0 Epsilon 0.3219999999999994 mean q 16.037498\n",
      "Episode:  678 Reward: 29.0 Epsilon 0.3209999999999994 mean q 15.516946\n",
      "Episode:  679 Reward: 127.0 Epsilon 0.3199999999999994 mean q 16.293945\n",
      "Episode:  680 Reward: 80.0 Epsilon 0.3189999999999994 mean q 15.159314\n",
      "Episode:  681 Reward: 59.0 Epsilon 0.3179999999999994 mean q 15.33597\n",
      "Episode:  682 Reward: 108.0 Epsilon 0.3169999999999994 mean q 16.846048\n",
      "Episode:  683 Reward: 96.0 Epsilon 0.3159999999999994 mean q 17.081497\n",
      "Episode:  684 Reward: 153.0 Epsilon 0.3149999999999994 mean q 15.773141\n",
      "Episode:  685 Reward: 50.0 Epsilon 0.3139999999999994 mean q 16.885305\n",
      "Episode:  686 Reward: 76.0 Epsilon 0.3129999999999994 mean q 15.081275\n",
      "Episode:  687 Reward: 128.0 Epsilon 0.3119999999999994 mean q 16.922527\n",
      "Episode:  688 Reward: 78.0 Epsilon 0.3109999999999994 mean q 15.225974\n",
      "Episode:  689 Reward: 92.0 Epsilon 0.3099999999999994 mean q 15.1542015\n",
      "Episode:  690 Reward: 38.0 Epsilon 0.3089999999999994 mean q 14.555244\n",
      "Episode:  691 Reward: 84.0 Epsilon 0.3079999999999994 mean q 15.699532\n",
      "Episode:  692 Reward: 112.0 Epsilon 0.3069999999999994 mean q 16.817156\n",
      "Episode:  693 Reward: 20.0 Epsilon 0.3059999999999994 mean q 14.851664\n",
      "Episode:  694 Reward: 110.0 Epsilon 0.3049999999999994 mean q 15.639873\n",
      "Episode:  695 Reward: 74.0 Epsilon 0.3039999999999994 mean q 15.165315\n",
      "Episode:  696 Reward: 79.0 Epsilon 0.3029999999999994 mean q 16.947592\n",
      "Episode:  697 Reward: 107.0 Epsilon 0.3019999999999994 mean q 16.786749\n",
      "Episode:  698 Reward: 61.0 Epsilon 0.3009999999999994 mean q 16.770308\n",
      "Episode:  699 Reward: 77.0 Epsilon 0.2999999999999994 mean q 16.883362\n",
      "Episode:  700 Reward: 85.0 Epsilon 0.2989999999999994 mean q 15.058884\n",
      "Episode:  701 Reward: 185.0 Epsilon 0.2979999999999994 mean q 16.519781\n",
      "Episode:  702 Reward: 108.0 Epsilon 0.2969999999999994 mean q 16.530134\n",
      "Episode:  703 Reward: 87.0 Epsilon 0.2959999999999994 mean q 16.504227\n",
      "Episode:  704 Reward: 70.0 Epsilon 0.2949999999999994 mean q 16.407146\n",
      "Episode:  705 Reward: 61.0 Epsilon 0.2939999999999994 mean q 16.379393\n",
      "Episode:  706 Reward: 116.0 Epsilon 0.29299999999999937 mean q 15.523596\n",
      "Episode:  707 Reward: 115.0 Epsilon 0.29199999999999937 mean q 16.719555\n"
     ]
    },
    {
     "name": "stdout",
     "output_type": "stream",
     "text": [
      "Episode:  708 Reward: 78.0 Epsilon 0.29099999999999937 mean q 16.647354\n",
      "Episode:  709 Reward: 90.0 Epsilon 0.28999999999999937 mean q 16.514025\n",
      "Episode:  710 Reward: 137.0 Epsilon 0.28899999999999937 mean q 15.6183815\n",
      "Episode:  711 Reward: 155.0 Epsilon 0.28799999999999937 mean q 15.79192\n",
      "Episode:  712 Reward: 67.0 Epsilon 0.28699999999999937 mean q 14.653328\n",
      "Episode:  713 Reward: 200.0 Epsilon 0.28599999999999937 mean q 16.396263\n",
      "Episode:  714 Reward: 165.0 Epsilon 0.28499999999999936 mean q 16.50259\n",
      "Episode:  715 Reward: 109.0 Epsilon 0.28399999999999936 mean q 15.485497\n",
      "Episode:  716 Reward: 155.0 Epsilon 0.28299999999999936 mean q 15.730164\n",
      "Episode:  717 Reward: 40.0 Epsilon 0.28199999999999936 mean q 15.21274\n",
      "Episode:  718 Reward: 120.0 Epsilon 0.28099999999999936 mean q 15.402024\n",
      "Episode:  719 Reward: 111.0 Epsilon 0.27999999999999936 mean q 16.336454\n",
      "Episode:  720 Reward: 138.0 Epsilon 0.27899999999999936 mean q 15.934901\n",
      "Episode:  721 Reward: 200.0 Epsilon 0.27799999999999936 mean q 16.583254\n",
      "Episode:  722 Reward: 116.0 Epsilon 0.27699999999999936 mean q 16.19324\n",
      "Episode:  723 Reward: 91.0 Epsilon 0.27599999999999936 mean q 16.259903\n",
      "Episode:  724 Reward: 180.0 Epsilon 0.27499999999999936 mean q 15.698014\n",
      "Episode:  725 Reward: 108.0 Epsilon 0.27399999999999936 mean q 16.350962\n",
      "Episode:  726 Reward: 99.0 Epsilon 0.27299999999999935 mean q 16.15073\n",
      "Episode:  727 Reward: 144.0 Epsilon 0.27199999999999935 mean q 15.979026\n",
      "Episode:  728 Reward: 68.0 Epsilon 0.27099999999999935 mean q 16.106897\n",
      "Episode:  729 Reward: 139.0 Epsilon 0.26999999999999935 mean q 16.021362\n",
      "Episode:  730 Reward: 148.0 Epsilon 0.26899999999999935 mean q 15.589299\n",
      "Episode:  731 Reward: 108.0 Epsilon 0.26799999999999935 mean q 16.087423\n",
      "Episode:  732 Reward: 157.0 Epsilon 0.26699999999999935 mean q 15.5949335\n",
      "Episode:  733 Reward: 103.0 Epsilon 0.26599999999999935 mean q 15.634185\n",
      "Episode:  734 Reward: 200.0 Epsilon 0.26499999999999935 mean q 16.96372\n",
      "Episode:  735 Reward: 163.0 Epsilon 0.26399999999999935 mean q 15.786708\n",
      "Episode:  736 Reward: 94.0 Epsilon 0.26299999999999935 mean q 15.783243\n",
      "Episode:  737 Reward: 200.0 Epsilon 0.26199999999999934 mean q 15.732793\n",
      "Episode:  738 Reward: 190.0 Epsilon 0.26099999999999934 mean q 16.032639\n",
      "Episode:  739 Reward: 152.0 Epsilon 0.25999999999999934 mean q 15.066231\n",
      "Episode:  740 Reward: 126.0 Epsilon 0.25899999999999934 mean q 15.704543\n",
      "Episode:  741 Reward: 200.0 Epsilon 0.25799999999999934 mean q 17.029217\n",
      "Episode:  742 Reward: 162.0 Epsilon 0.25699999999999934 mean q 15.591028\n",
      "Episode:  743 Reward: 153.0 Epsilon 0.25599999999999934 mean q 15.141187\n",
      "Episode:  744 Reward: 183.0 Epsilon 0.25499999999999934 mean q 15.840376\n",
      "Episode:  745 Reward: 157.0 Epsilon 0.25399999999999934 mean q 16.074146\n",
      "Episode:  746 Reward: 200.0 Epsilon 0.25299999999999934 mean q 15.648472\n",
      "Episode:  747 Reward: 199.0 Epsilon 0.25199999999999934 mean q 15.942006\n",
      "Episode:  748 Reward: 200.0 Epsilon 0.25099999999999933 mean q 16.631739\n",
      "Episode:  749 Reward: 200.0 Epsilon 0.24999999999999933 mean q 16.315424\n",
      "Episode:  750 Reward: 200.0 Epsilon 0.24899999999999933 mean q 16.311562\n",
      "Episode:  751 Reward: 200.0 Epsilon 0.24799999999999933 mean q 17.569403\n",
      "Episode:  752 Reward: 200.0 Epsilon 0.24699999999999933 mean q 17.495646\n",
      "Episode:  753 Reward: 144.0 Epsilon 0.24599999999999933 mean q 14.360001\n",
      "Episode:  754 Reward: 200.0 Epsilon 0.24499999999999933 mean q 16.878119\n",
      "Episode:  755 Reward: 200.0 Epsilon 0.24399999999999933 mean q 17.17552\n",
      "Episode:  756 Reward: 200.0 Epsilon 0.24299999999999933 mean q 16.662188\n",
      "Episode:  757 Reward: 200.0 Epsilon 0.24199999999999933 mean q 16.138622\n",
      "Episode:  758 Reward: 200.0 Epsilon 0.24099999999999933 mean q 15.697427\n",
      "Episode:  759 Reward: 200.0 Epsilon 0.23999999999999932 mean q 16.583221\n",
      "Episode:  760 Reward: 200.0 Epsilon 0.23899999999999932 mean q 16.479761\n",
      "Episode:  761 Reward: 200.0 Epsilon 0.23799999999999932 mean q 18.18585\n",
      "Episode:  762 Reward: 200.0 Epsilon 0.23699999999999932 mean q 15.903032\n",
      "Episode:  763 Reward: 190.0 Epsilon 0.23599999999999932 mean q 14.948482\n",
      "Episode:  764 Reward: 200.0 Epsilon 0.23499999999999932 mean q 18.042446\n",
      "Episode:  765 Reward: 200.0 Epsilon 0.23399999999999932 mean q 17.803186\n",
      "Episode:  766 Reward: 200.0 Epsilon 0.23299999999999932 mean q 18.283018\n",
      "Episode:  767 Reward: 200.0 Epsilon 0.23199999999999932 mean q 17.980835\n",
      "Episode:  768 Reward: 200.0 Epsilon 0.23099999999999932 mean q 17.749666\n",
      "Episode:  769 Reward: 200.0 Epsilon 0.22999999999999932 mean q 17.934746\n",
      "Episode:  770 Reward: 161.0 Epsilon 0.22899999999999932 mean q 14.301046\n",
      "Episode:  771 Reward: 200.0 Epsilon 0.22799999999999931 mean q 17.389917\n",
      "Episode:  772 Reward: 200.0 Epsilon 0.2269999999999993 mean q 17.409828\n",
      "Episode:  773 Reward: 200.0 Epsilon 0.2259999999999993 mean q 17.315395\n",
      "Episode:  774 Reward: 200.0 Epsilon 0.2249999999999993 mean q 17.996391\n",
      "Episode:  775 Reward: 200.0 Epsilon 0.2239999999999993 mean q 17.481567\n",
      "Episode:  776 Reward: 200.0 Epsilon 0.2229999999999993 mean q 18.238567\n",
      "Episode:  777 Reward: 200.0 Epsilon 0.2219999999999993 mean q 18.25788\n",
      "Episode:  778 Reward: 200.0 Epsilon 0.2209999999999993 mean q 17.593472\n",
      "Episode:  779 Reward: 200.0 Epsilon 0.2199999999999993 mean q 18.598686\n",
      "Episode:  780 Reward: 200.0 Epsilon 0.2189999999999993 mean q 18.308483\n",
      "Episode:  781 Reward: 200.0 Epsilon 0.2179999999999993 mean q 17.78392\n",
      "Episode:  782 Reward: 200.0 Epsilon 0.2169999999999993 mean q 18.659103\n",
      "Episode:  783 Reward: 200.0 Epsilon 0.2159999999999993 mean q 18.177402\n",
      "Episode:  784 Reward: 200.0 Epsilon 0.2149999999999993 mean q 18.623316\n",
      "Episode:  785 Reward: 200.0 Epsilon 0.2139999999999993 mean q 18.828665\n",
      "Episode:  786 Reward: 200.0 Epsilon 0.2129999999999993 mean q 18.809767\n",
      "Episode:  787 Reward: 200.0 Epsilon 0.2119999999999993 mean q 18.173708\n",
      "Episode:  788 Reward: 200.0 Epsilon 0.2109999999999993 mean q 18.065699\n",
      "Episode:  789 Reward: 200.0 Epsilon 0.2099999999999993 mean q 16.852606\n",
      "Episode:  790 Reward: 200.0 Epsilon 0.2089999999999993 mean q 18.36467\n",
      "Episode:  791 Reward: 200.0 Epsilon 0.2079999999999993 mean q 18.178978\n",
      "Episode:  792 Reward: 200.0 Epsilon 0.2069999999999993 mean q 17.327843\n",
      "Episode:  793 Reward: 181.0 Epsilon 0.2059999999999993 mean q 17.30397\n",
      "Episode:  794 Reward: 200.0 Epsilon 0.2049999999999993 mean q 18.56869\n",
      "Episode:  795 Reward: 200.0 Epsilon 0.2039999999999993 mean q 17.17451\n",
      "Episode:  796 Reward: 200.0 Epsilon 0.2029999999999993 mean q 16.95042\n",
      "Episode:  797 Reward: 200.0 Epsilon 0.2019999999999993 mean q 17.563208\n",
      "Episode:  798 Reward: 200.0 Epsilon 0.2009999999999993 mean q 17.802326\n",
      "Episode:  799 Reward: 115.0 Epsilon 0.1999999999999993 mean q 18.383411\n",
      "Episode:  800 Reward: 200.0 Epsilon 0.1989999999999993 mean q 18.415642\n",
      "Episode:  801 Reward: 200.0 Epsilon 0.1979999999999993 mean q 18.871231\n",
      "Episode:  802 Reward: 200.0 Epsilon 0.1969999999999993 mean q 17.700003\n",
      "Episode:  803 Reward: 200.0 Epsilon 0.19599999999999929 mean q 19.183933\n",
      "Episode:  804 Reward: 200.0 Epsilon 0.19499999999999929 mean q 18.98709\n",
      "Episode:  805 Reward: 200.0 Epsilon 0.19399999999999928 mean q 19.21264\n",
      "Episode:  806 Reward: 200.0 Epsilon 0.19299999999999928 mean q 17.601381\n",
      "Episode:  807 Reward: 200.0 Epsilon 0.19199999999999928 mean q 18.881132\n",
      "Episode:  808 Reward: 200.0 Epsilon 0.19099999999999928 mean q 18.933891\n",
      "Episode:  809 Reward: 200.0 Epsilon 0.18999999999999928 mean q 18.098944\n",
      "Episode:  810 Reward: 200.0 Epsilon 0.18899999999999928 mean q 18.494446\n",
      "Episode:  811 Reward: 200.0 Epsilon 0.18799999999999928 mean q 18.503555\n",
      "Episode:  812 Reward: 200.0 Epsilon 0.18699999999999928 mean q 18.445938\n"
     ]
    }
   ],
   "source": [
    "# Create the environment\n",
    "env = gym.make(\"CartPole-v0\")\n",
    "\n",
    "# Initializations\n",
    "num_actions = env.action_space.n\n",
    "obs_dim = env.observation_space.shape[0]\n",
    "\n",
    "# Our Neural Netork model used to estimate the Q-values\n",
    "model = DoubleQLearningModel(state_dim=obs_dim, action_dim=num_actions, learning_rate=1e-4)\n",
    "\n",
    "# Create replay buffer, where experience in form of tuples <s,a,r,s',t>, gathered from the environment is stored \n",
    "# for training\n",
    "replay_buffer = ExperienceReplay(state_size=obs_dim)\n",
    "\n",
    "# Train\n",
    "num_episodes = 1200 \n",
    "batch_size = 128 \n",
    "R, R_avg = train_loop_ddqn(model, env, num_episodes, batch_size) "
   ]
  },
  {
   "cell_type": "code",
   "execution_count": null,
   "metadata": {
    "deletable": false,
    "editable": false,
    "nbgrader": {
     "checksum": "ccfca43f389c569bcbffc990f47b4193",
     "grade": false,
     "grade_id": "cell-4757be1a3ec18b56",
     "locked": true,
     "schema_version": 1,
     "solution": false
    }
   },
   "outputs": [],
   "source": [
    "# close window (if you used env.render())\n",
    "env.close()"
   ]
  },
  {
   "cell_type": "markdown",
   "metadata": {
    "deletable": false,
    "editable": false,
    "nbgrader": {
     "checksum": "6c25e0e7133fd3583dcac959c1daede9",
     "grade": false,
     "grade_id": "cell-8f1ad36de733ed92",
     "locked": true,
     "schema_version": 1,
     "solution": false
    }
   },
   "source": [
    "According to the code above, and the code in the provided .py file, answer the following questions:\n",
    "    \n",
    "What is the state for this problem?"
   ]
  },
  {
   "cell_type": "markdown",
   "metadata": {
    "deletable": false,
    "nbgrader": {
     "checksum": "2f28740b9ccf7bf2fa7f166c9fbde003",
     "grade": true,
     "grade_id": "cell-0a780f1afdcd6b1a",
     "locked": false,
     "points": 0,
     "schema_version": 1,
     "solution": true
    }
   },
   "source": [
    "**Your answer:** According to the offical openai documentation the states are cart position, cart velocity, pole angle and pole velocity at tip."
   ]
  },
  {
   "cell_type": "markdown",
   "metadata": {
    "deletable": false,
    "editable": false,
    "nbgrader": {
     "checksum": "d24bef4443fea27ffd50ac2afa03e864",
     "grade": false,
     "grade_id": "cell-50a080269bf6f296",
     "locked": true,
     "schema_version": 1,
     "solution": false
    }
   },
   "source": [
    "When do we switch the networks (i.e. when does the online network become the fixed one, and vice-versa)?"
   ]
  },
  {
   "cell_type": "markdown",
   "metadata": {
    "deletable": false,
    "nbgrader": {
     "checksum": "ec6fb2c4cdc4df93cd1669b0e4696410",
     "grade": true,
     "grade_id": "cell-099530ded38d7038",
     "locked": false,
     "points": 0,
     "schema_version": 1,
     "solution": true
    }
   },
   "source": [
    "**Your answer:** It seems that we update the TD-targets during an episode when we've buffered 1000 samples, we then switch the weights of the networks between online and offline weights with 50% probability."
   ]
  },
  {
   "cell_type": "markdown",
   "metadata": {
    "deletable": false,
    "editable": false,
    "nbgrader": {
     "checksum": "f182ff445a4e8d3848403742faa6a1cd",
     "grade": false,
     "grade_id": "cell-0836fc1b783d1158",
     "locked": true,
     "schema_version": 1,
     "solution": false
    }
   },
   "source": [
    "Run the cell below to visualize your final policy in an episode from this environment.\n",
    "\n",
    "**Note:** In order to visualize, the env.render() command needs to work out on your system (see comment a few cells above)."
   ]
  },
  {
   "cell_type": "code",
   "execution_count": 71,
   "metadata": {
    "deletable": false,
    "editable": false,
    "nbgrader": {
     "checksum": "4ff19e83fbc6ba870e1b638fc7801f37",
     "grade": false,
     "grade_id": "cell-1e8a9b49909882ac",
     "locked": true,
     "schema_version": 1,
     "solution": false
    }
   },
   "outputs": [],
   "source": [
    "import time\n",
    "num_episodes = 1\n",
    "env = gym.make(\"CartPole-v0\")\n",
    "\n",
    "for i in range(num_episodes):\n",
    "        state = env.reset() #reset to initial state\n",
    "        state = np.expand_dims(state, axis=0)/2\n",
    "        terminal = False # reset terminal flag\n",
    "        while not terminal:\n",
    "            env.render()\n",
    "            time.sleep(.05)\n",
    "            q_values = model.get_q_values(state)\n",
    "            policy = eps_greedy_policy(q_values.squeeze(), .1) # greedy policy\n",
    "            action = np.random.choice(num_actions, p=policy)\n",
    "            state, reward, terminal, _ = env.step(action) # take one step in the evironment\n",
    "            state = np.expand_dims(state, axis=0)/2\n",
    "# close window\n",
    "env.close();"
   ]
  },
  {
   "cell_type": "markdown",
   "metadata": {
    "deletable": false,
    "editable": false,
    "nbgrader": {
     "checksum": "91c95cdee8f1715e789b8bdf2a4e2ff8",
     "grade": false,
     "grade_id": "cell-0bb5d237ca6839d6",
     "locked": true,
     "schema_version": 1,
     "solution": false
    }
   },
   "source": [
    "Plot the episodic rewards obtained throughout the optimization, together with a moving average of it (since the episodic reward is usually very noisy)."
   ]
  },
  {
   "cell_type": "code",
   "execution_count": 72,
   "metadata": {
    "deletable": false,
    "editable": false,
    "nbgrader": {
     "checksum": "a49cda53e12c1b8a976338c0f8bff7b9",
     "grade": false,
     "grade_id": "cell-a3c72b1dbffd2db4",
     "locked": true,
     "schema_version": 1,
     "solution": false
    }
   },
   "outputs": [
    {
     "data": {
      "image/png": "[encoded data removed]",
      "text/plain": [
       "<Figure size 432x288 with 1 Axes>"
      ]
     },
     "metadata": {},
     "output_type": "display_data"
    }
   ],
   "source": [
    "%matplotlib inline\n",
    "import matplotlib.pyplot as plt\n",
    "\n",
    "rewards = plt.plot(R, alpha=.4, label='R')\n",
    "avg_rewards = plt.plot(R_avg,label='avg R')\n",
    "plt.legend(bbox_to_anchor=(1.01, 1), loc=2, borderaxespad=0.)\n",
    "plt.xlabel('Episode')\n",
    "plt.ylim(0, 210)\n",
    "plt.show()"
   ]
  },
  {
   "cell_type": "markdown",
   "metadata": {
    "deletable": false,
    "editable": false,
    "nbgrader": {
     "checksum": "99ff38a2a4ff5f958140c9ee6019db87",
     "grade": false,
     "grade_id": "cell-293ec5dfa636ff48",
     "locked": true,
     "schema_version": 1,
     "solution": false
    }
   },
   "source": [
    "Congratulations, you have now successfully implemented the DDQN algorithm. You are encouraged to explore different problems. There are a lot of different environments ready for you to implement your algorithms in. A few of these resources are:\n",
    "* [OpenAI gym](https://github.com/openai/gym)\n",
    "* [OpenAI Universe](https://github.com/openai/universe)\n",
    "* [DeepMind Lab](https://deepmind.com/blog/open-sourcing-deepmind-lab/)\n",
    "\n",
    "The model you implemented in this lab can be extended to solve harder problems. A good starting-point is to try to solve the Acrobot-problem, by loading the environment as \n",
    "\n",
    "**gym.make(\"Acrobot-v1\")**.\n",
    "\n",
    "The problem might require some modifications to how you decay $\\epsilon$, but otherwise, the code you have written within this lab should be sufficient. "
   ]
  },
  {
   "cell_type": "markdown",
   "metadata": {
    "deletable": false,
    "editable": false,
    "nbgrader": {
     "checksum": "6be3464a29fcec53d4c2434c8af73acd",
     "grade": false,
     "grade_id": "cell-671cfb5a590863e9",
     "locked": true,
     "schema_version": 1,
     "solution": false
    }
   },
   "source": [
    "### Task 3.2 Atari games\n",
    "\n",
    "A common benchmark for reinforcement learning algorithms is the old Atari games. For the Atari games, each observation consists of one screenshot of the current state of the game. Other than adding convolutional layers to your neural network, there is one more issue regarding the new input that needs to be solved. Name at least two solutions to the problem, and why it won't work without these changes. \n",
    "\n",
    "Hint:\n",
    "- Imagine the game of pong. What is important for the algorithm to predict? What is the input to the algorithm? Is it possible to predict what we want from the input given?"
   ]
  },
  {
   "cell_type": "markdown",
   "metadata": {
    "deletable": false,
    "nbgrader": {
     "checksum": "8c57f74e2e49c6ee244370df1b46e5a2",
     "grade": true,
     "grade_id": "cell-55e109dd6169612b",
     "locked": false,
     "points": 0,
     "schema_version": 1,
     "solution": true
    }
   },
   "source": [
    "**Your answer:** The algorithm should decide if the paddle should move up or down. It's important to predict the position and the direction of the ball. To do this we need at least two frames as input to determine the direction on the ball. From this it should be possible to decide if the paddle should move up or down."
   ]
  }
 ],
 "metadata": {
  "kernelspec": {
   "display_name": "Python 3",
   "language": "python",
   "name": "python3"
  },
  "language_info": {
   "codemirror_mode": {
    "name": "ipython",
    "version": 3
   },
   "file_extension": ".py",
   "mimetype": "text/x-python",
   "name": "python",
   "nbconvert_exporter": "python",
   "pygments_lexer": "ipython3",
   "version": "3.5.5"
  }
 },
 "nbformat": 4,
 "nbformat_minor": 1
}
